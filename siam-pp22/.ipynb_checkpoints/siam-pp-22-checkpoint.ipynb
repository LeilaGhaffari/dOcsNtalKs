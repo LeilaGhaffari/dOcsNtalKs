{
 "cells": [
  {
   "cell_type": "markdown",
   "id": "af105b2a",
   "metadata": {
    "cell_style": "center",
    "slideshow": {
     "slide_type": "slide"
    }
   },
   "source": [
    "# <center>On Portability and Performance Versatility in Nonlinear Solid and Fluid Mechanics Using libCEED and PETSc</center>\n",
    "\n",
    "<br>\n",
    "<br>\n",
    "<br>\n",
    "\n",
    "### <center>Leila Ghaffari<sup>1</sup>, \n",
    "<br>\n",
    "<center>Jeremy L. Thompson<sup>1</sup>, Valeria Barra<sup>1,2</sup>, Rezgar Shakeri<sup>3</sup>, Karen Stengel<sup>1</sup>, and Jed Brown<sup>1</sup></center>  \n",
    "\n",
    "<br>\n",
    "  \n",
    "<center><sub><sup><sup>1</sup> Department of Computer Science, CU Boulder</sup></sub></center>  \n",
    "<center><sub><sup><sup>2</sup> Department of Environmental Science and Engineering, California Institute of Technology</sup></sub></center>\n",
    "<center><sub><sup><sup>3</sup> Department of Civil Engineering, CU Boulder</sup></sub></center>  \n",
    "\n",
    "<br>\n",
    "<br>\n",
    "<br>\n",
    "\n",
    "<center>SIAM PP22, 23 Feb 2022</center>"
   ]
  },
  {
   "cell_type": "markdown",
   "id": "711da8ed",
   "metadata": {},
   "source": [
    "<img align=\"left\" src=\"ecp.png\" width=\"500\"/>  <img align=\"right\" src=\"ceed-exascale-landscape.png\" width=\"600\"/>"
   ]
  },
  {
   "cell_type": "markdown",
   "id": "8ac79187",
   "metadata": {
    "slideshow": {
     "slide_type": "slide"
    }
   },
   "source": [
    "# To assemble or not to assemble?\n",
    "\n"
   ]
  },
  {
   "cell_type": "markdown",
   "id": "ae4ff5fe",
   "metadata": {
    "slideshow": {
     "slide_type": "-"
    }
   },
   "source": [
    "<img align=\"left\" src=\"assemble-or-not.png\" width=\"90%\"/>"
   ]
  },
  {
   "cell_type": "markdown",
   "id": "7367d23d",
   "metadata": {
    "slideshow": {
     "slide_type": "slide"
    }
   },
   "source": [
    "# [libCEED](https://libceed.readthedocs.io): Efficient Extensible Discretization  "
   ]
  },
  {
   "cell_type": "markdown",
   "id": "622a8af1",
   "metadata": {},
   "source": [
    "<img align=\"left\" src=\"libceed-badges.png\" width=\"100%\"/>"
   ]
  },
  {
   "cell_type": "markdown",
   "id": "abc4951e",
   "metadata": {
    "cell_style": "split",
    "slideshow": {
     "slide_type": "-"
    }
   },
   "source": [
    "* High-order finite/spectral element (FEM/SEM) library exploiting tensor-product structure\n",
    "\n",
    "* Open source (BSD-2 license) C library with Fortran, Python, Julia, and Rust interfaces\n",
    "\n",
    "* [libCEED User Manual](https://libceed.readthedocs.io/en/latest/)\n",
    "\n",
    "     <img align=\"left\" src=\"libceed-qr-code.png\" width=\"200\"/>   <img align=\"left\" src=\"libceed-docs-qr-code.png\" width=\"200\"/> "
   ]
  },
  {
   "cell_type": "markdown",
   "id": "0fdb8172",
   "metadata": {
    "slideshow": {
     "slide_type": "slide"
    }
   },
   "source": [
    "# libCEED's mission\n"
   ]
  },
  {
   "cell_type": "markdown",
   "id": "fb4fb24d",
   "metadata": {
    "cell_style": "split"
   },
   "source": [
    "* Purely algebraic FEM library\n",
    "\n",
    "* Backend plugins with run-time selection\n",
    "\n",
    "* Single source vanilla C for QFunctions\n",
    "\n",
    "* Same source code can call multiple CEEDs with different backends\n",
    "\n",
    "* Available via MFEM, PETSc, Nek5000\n",
    "\n",
    "\n"
   ]
  },
  {
   "cell_type": "markdown",
   "id": "939588e8",
   "metadata": {
    "cell_style": "split"
   },
   "source": [
    "<img align=\"right\" src=\"libCEEDBackends.png\" width=\"100%\"/>"
   ]
  },
  {
   "cell_type": "markdown",
   "id": "33671bdc",
   "metadata": {
    "slideshow": {
     "slide_type": "slide"
    }
   },
   "source": [
    "<center><img align=\"center\" src=\"libCEEDDecomposition.png\" width=\"2000\"/></center>"
   ]
  },
  {
   "cell_type": "markdown",
   "id": "fab97b8d",
   "metadata": {},
   "source": [
    "* <font color='red'>$P$</font> - Process decomposition \n",
    "* $\\mathcal E$</font> - Element restriction\n",
    "* <font color='blue'>$B$</font> - Basis (DoFs-to-Qpts) evaluator \n",
    "* <font color='green'>$D$</font> - Operator at quadrature point "
   ]
  },
  {
   "cell_type": "markdown",
   "id": "aab3163c",
   "metadata": {
    "slideshow": {
     "slide_type": "slide"
    }
   },
   "source": [
    "# Toward real-world problems\n"
   ]
  },
  {
   "cell_type": "markdown",
   "id": "56fa9afc",
   "metadata": {},
   "source": [
    "## <center>Solid mechanics mini-app</center>"
   ]
  },
  {
   "cell_type": "markdown",
   "id": "7e65bb40",
   "metadata": {
    "cell_style": "split",
    "slideshow": {
     "slide_type": "slide"
    }
   },
   "source": [
    "#### Neo-Hookean Hyperelasticity at Finite Strain\n",
    "----\n",
    "\n",
    "### Strong form:\n",
    "\n",
    "$$\n",
    "- \\nabla_X \\cdot \\boldsymbol{P} - \\rho_0 \\boldsymbol{g} = \\boldsymbol{0}\n",
    "$$\n",
    "\n",
    "where $\\boldsymbol{P} = \\boldsymbol{F} \\, \\boldsymbol{S}$\n",
    "\n",
    "### Weak form:  \n",
    "\n",
    "$$ \n",
    "\\int_{\\Omega_0}{\\nabla_X \\boldsymbol{v} \\colon \\boldsymbol{FS}} \\, dV\n",
    " - \\int_{\\Omega_0}{\\boldsymbol{v} \\cdot \\rho_0 \\boldsymbol{g}} \\, dV\n",
    " - \\int_{\\partial \\Omega_0}{\\boldsymbol{v} \\cdot (\\boldsymbol{FS} \\cdot \\hat{\\boldsymbol{N}})} \\, dS\n",
    " = 0, \\quad \\forall \\boldsymbol v \\in \\mathcal V,\n",
    "$$"
   ]
  },
  {
   "cell_type": "markdown",
   "id": "801f7a36",
   "metadata": {
    "cell_style": "split",
    "slideshow": {
     "slide_type": "fragment"
    }
   },
   "source": [
    "#### Initial vs Current configuration\n",
    "-----\n",
    "\n",
    "\\begin{equation} \\label{residual}\n",
    "    {\\underbrace{\\nabla_X \\boldsymbol{v} \\colon \\boldsymbol{FS}}_{\\text{Initial Residual}}}\n",
    "     \\xrightarrow[]{\\text{push forward}}\n",
    "     {\\underbrace{\\nabla_x \\boldsymbol{v} \\colon \\boldsymbol{\\tau}}_{\\text{Current Residual}}}\n",
    "\\end{equation}\n",
    "\n",
    "\\begin{equation} \\label{Jacobian}\n",
    "    {\\underbrace{\\nabla_X\\boldsymbol{v}\\colon \\Big(\\text{d}\\boldsymbol{F}\\boldsymbol{S} + \\boldsymbol{F}\\text{d}\\boldsymbol{S}\\Big)}_\\text{Initial Jacobian}}\n",
    "     \\xrightarrow[]{\\text{push forward}}\n",
    "     {\\underbrace{\\nabla_x\\boldsymbol{v}\\colon \\Big(\\text{d}\\boldsymbol{\\tau} -\\boldsymbol{\\tau}(\\nabla_x \\text{d}\\boldsymbol{u})^T \\Big)}_\\text{Current Jacobian}}\n",
    "\\end{equation}\n",
    "\n",
    "<img align=\"center\" src=\"solids_initial_vs_current.png\" width=\"100%\">"
   ]
  },
  {
   "cell_type": "markdown",
   "id": "0ff566fa",
   "metadata": {
    "slideshow": {
     "slide_type": "slide"
    }
   },
   "source": [
    "# Problem space"
   ]
  },
  {
   "cell_type": "markdown",
   "id": "6dec49d3",
   "metadata": {
    "cell_style": "split",
    "slideshow": {
     "slide_type": "-"
    }
   },
   "source": [
    "<img src=\"holes-mesh.gif\" width=\"100%\" align=\"center\">\n"
   ]
  },
  {
   "cell_type": "markdown",
   "id": "16ab908a",
   "metadata": {
    "cell_style": "split"
   },
   "source": [
    "## Hex\n",
    "<img align=\"left\" src=\"vtu_output/hex_res0.png\" width=\"300\"> \n",
    "<img align=\"left\" src=\"vtu_output/hex_res2.png\" width=\"300\"> "
   ]
  },
  {
   "cell_type": "markdown",
   "id": "9f1d06de",
   "metadata": {
    "cell_style": "split"
   },
   "source": [
    "## Tet\n",
    "<img align=\"left\" src=\"vtu_output/tet_res0.png\" width=\"300\"> \n",
    "<img align=\"left\" src=\"vtu_output/tet_res2.png\" width=\"300\">"
   ]
  },
  {
   "cell_type": "markdown",
   "id": "bfb79003",
   "metadata": {
    "slideshow": {
     "slide_type": "slide"
    }
   },
   "source": [
    "## $p$-Refinement Study"
   ]
  },
  {
   "cell_type": "markdown",
   "id": "c760a3ea",
   "metadata": {},
   "source": [
    "<img align=\"center\" src=\"p-refinement.png\" width=\"100%\">"
   ]
  },
  {
   "cell_type": "markdown",
   "id": "e095f56d",
   "metadata": {
    "slideshow": {
     "slide_type": "slide"
    }
   },
   "source": [
    "## Enzyme-libCEED (WIP)"
   ]
  },
  {
   "cell_type": "markdown",
   "id": "2a595c20",
   "metadata": {},
   "source": []
  },
  {
   "cell_type": "markdown",
   "id": "a8ff5e10",
   "metadata": {
    "cell_style": "split",
    "slideshow": {
     "slide_type": "slide"
    }
   },
   "source": [
    "# Outlook\n",
    "\n",
    "  * \n",
    "  * SYCL/DPC++ backend\n",
    "  * Fluids - Shock-capturing\n",
    "  * Fluids - Turbulence modeling\n",
    "  * We invite contributors and friendly users\n",
    "\n",
    "<sub><sup>Acknowledgements: Exascale Computing Project (17-SC-20-SC)</sup></sub>\n",
    "\n",
    "<img align=\"left\" src=\"ceed-exascale-landscape.png\" width=\"700\"/>\n",
    "\n",
    "<img align=\"left\" src=\"ecp.png\" width=\"700\"/>\n"
   ]
  },
  {
   "cell_type": "markdown",
   "id": "8fccb7d6",
   "metadata": {
    "cell_style": "split",
    "slideshow": {
     "slide_type": "fragment"
    }
   },
   "source": [
    "<img align=\"center\" src=\"baby-ratel.jpeg\" width=\"100%\"/>"
   ]
  },
  {
   "cell_type": "markdown",
   "id": "082b928d",
   "metadata": {
    "cell_style": "split",
    "slideshow": {
     "slide_type": "fragment"
    }
   },
   "source": [
    "<img align=\"left\" src=\"ratel-gitlab.png\" width=\"100%\"/>\n",
    "\n",
    "[https://gitlab.com/micromorph/ratel](https://gitlab.com/micromorph/ratel)"
   ]
  },
  {
   "cell_type": "code",
   "execution_count": null,
   "id": "2000681b",
   "metadata": {},
   "outputs": [],
   "source": []
  }
 ],
 "metadata": {
  "celltoolbar": "Slideshow",
  "kernelspec": {
   "display_name": "Python 3 (ipykernel)",
   "language": "python",
   "name": "python3"
  },
  "language_info": {
   "codemirror_mode": {
    "name": "ipython",
    "version": 3
   },
   "file_extension": ".py",
   "mimetype": "text/x-python",
   "name": "python",
   "nbconvert_exporter": "python",
   "pygments_lexer": "ipython3",
   "version": "3.8.8"
  }
 },
 "nbformat": 4,
 "nbformat_minor": 5
}
