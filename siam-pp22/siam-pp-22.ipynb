{
 "cells": [
  {
   "cell_type": "markdown",
   "id": "af105b2a",
   "metadata": {
    "cell_style": "center",
    "slideshow": {
     "slide_type": "slide"
    }
   },
   "source": [
    "# <center>On Portability and Performance Versatility in Nonlinear Solid and Fluid Mechanics Using libCEED and PETSc</center>\n",
    "\n",
    "<br>\n",
    "<br>\n",
    "<br>\n",
    "\n",
    "### <center>Leila Ghaffari<sup>1</sup>, \n",
    "<br>\n",
    "<center>Jeremy L. Thompson<sup>1</sup>, Valeria Barra<sup>1,2</sup>, Rezgar Shakeri<sup>3</sup>, Karen Stengel<sup>1</sup>, and Jed Brown<sup>1</sup></center>  \n",
    "\n",
    "<br>\n",
    "  \n",
    "<center><sub><sup><sup>1</sup> Department of Computer Science, CU Boulder</sup></sub></center>  \n",
    "<center><sub><sup><sup>2</sup> Department of Environmental Science and Engineering, California Institute of Technology</sup></sub></center>\n",
    "<center><sub><sup><sup>3</sup> Department of Civil Engineering, CU Boulder</sup></sub></center>  \n",
    "\n",
    "<br>\n",
    "<br>\n",
    "<br>\n",
    "\n",
    "<center>SIAM PP22, 23 Feb 2022</center>"
   ]
  },
  {
   "cell_type": "markdown",
   "id": "711da8ed",
   "metadata": {},
   "source": [
    "<img align=\"left\" src=\"ecp.png\" width=\"500\"/>  <img align=\"right\" src=\"ceed-exascale-landscape.png\" width=\"600\"/>"
   ]
  },
  {
   "cell_type": "markdown",
   "id": "8ac79187",
   "metadata": {
    "slideshow": {
     "slide_type": "slide"
    }
   },
   "source": [
    "# To assemble or not to assemble?"
   ]
  },
  {
   "cell_type": "markdown",
   "id": "ae4ff5fe",
   "metadata": {
    "slideshow": {
     "slide_type": "-"
    }
   },
   "source": [
    "<img align=\"left\" src=\"assemble-or-not.png\" width=\"80%\"/>"
   ]
  },
  {
   "cell_type": "markdown",
   "id": "7367d23d",
   "metadata": {
    "slideshow": {
     "slide_type": "slide"
    }
   },
   "source": [
    "# [libCEED](https://libceed.readthedocs.io): Efficient Extensible Discretization  "
   ]
  },
  {
   "cell_type": "markdown",
   "id": "622a8af1",
   "metadata": {},
   "source": [
    "<img align=\"left\" src=\"libceed-badges.png\" width=\"100%\"/>"
   ]
  },
  {
   "cell_type": "markdown",
   "id": "abc4951e",
   "metadata": {
    "cell_style": "split",
    "slideshow": {
     "slide_type": "-"
    }
   },
   "source": [
    "* High-order finite/spectral element (FEM/SEM) library exploiting tensor-product structure\n",
    "\n",
    "* Open source (BSD-2 license) C library with Fortran, Python, Julia, and Rust interfaces\n",
    "\n",
    "* [libCEED User Manual](https://libceed.readthedocs.io/en/latest/)\n",
    "\n"
   ]
  },
  {
   "cell_type": "markdown",
   "id": "bec7a76d",
   "metadata": {
    "cell_style": "split"
   },
   "source": [
    "<img align=\"left\" src=\"libceed-qr-code.png\" width=\"200\"/>   <img align=\"left\" src=\"libceed-docs-qr-code.png\" width=\"200\"/> "
   ]
  },
  {
   "cell_type": "markdown",
   "id": "0fdb8172",
   "metadata": {
    "slideshow": {
     "slide_type": "slide"
    }
   },
   "source": [
    "# libCEED's mission\n"
   ]
  },
  {
   "cell_type": "markdown",
   "id": "fb4fb24d",
   "metadata": {
    "cell_style": "split"
   },
   "source": [
    "* Purely algebraic FEM library\n",
    "\n",
    "* Single source vanilla C for QFunctions\n",
    "\n",
    "* Backend plugins with run-time selection\n",
    "    * e.g., `./bps -ceed /gpu/cuda`\n",
    "\n",
    "* Same source code can call multiple CEEDs with different backends\n",
    "\n",
    "* Available via MFEM, PETSc, Nek5000\n",
    "\n",
    "\n"
   ]
  },
  {
   "cell_type": "markdown",
   "id": "939588e8",
   "metadata": {
    "cell_style": "split"
   },
   "source": [
    "<img align=\"right\" src=\"libCEEDBackends.png\" width=\"100%\"/>"
   ]
  },
  {
   "cell_type": "markdown",
   "id": "33671bdc",
   "metadata": {
    "slideshow": {
     "slide_type": "slide"
    }
   },
   "source": [
    "<center><img align=\"center\" src=\"libCEEDDecomposition.png\" width=\"2000\"/></center>"
   ]
  },
  {
   "cell_type": "markdown",
   "id": "fab97b8d",
   "metadata": {},
   "source": [
    "* <font color='red'>$P$</font> - Process decomposition \n",
    "* $\\mathcal E$</font> - Element restriction\n",
    "* <font color='blue'>$B$</font> - Basis (DoFs-to-Qpts) evaluator \n",
    "* <font color='green'>$D$</font> - Operator at quadrature point "
   ]
  },
  {
   "cell_type": "markdown",
   "id": "aab3163c",
   "metadata": {
    "slideshow": {
     "slide_type": "slide"
    }
   },
   "source": [
    "# Toward real-world problems\n"
   ]
  },
  {
   "cell_type": "markdown",
   "id": "56fa9afc",
   "metadata": {},
   "source": [
    "## <center>Solid mechanics mini-app</center>"
   ]
  },
  {
   "cell_type": "markdown",
   "id": "7e65bb40",
   "metadata": {
    "cell_style": "split",
    "slideshow": {
     "slide_type": "slide"
    }
   },
   "source": [
    "#### Neo-Hookean Hyperelasticity at Finite Strain\n",
    "----\n",
    "\n",
    "### Strong form:\n",
    "\n",
    "$$\n",
    "- \\nabla_X \\cdot \\boldsymbol{P} - \\rho_0 \\boldsymbol{g} = \\boldsymbol{0}\n",
    "$$\n",
    "\n",
    "where $\\boldsymbol{P} = \\boldsymbol{F} \\, \\boldsymbol{S}$\n",
    "\n",
    "### Weak form:  \n",
    "\n",
    "$$ \n",
    "\\int_{\\Omega_0}{\\nabla_X \\boldsymbol{v} \\colon \\boldsymbol{FS}} \\, dV\n",
    " - \\int_{\\Omega_0}{\\boldsymbol{v} \\cdot \\rho_0 \\boldsymbol{g}} \\, dV\n",
    " - \\int_{\\partial \\Omega_0}{\\boldsymbol{v} \\cdot (\\boldsymbol{FS} \\cdot \\hat{\\boldsymbol{N}})} \\, dS\n",
    " = 0, \\quad \\forall \\boldsymbol v \\in \\mathcal V,\n",
    "$$"
   ]
  },
  {
   "cell_type": "markdown",
   "id": "801f7a36",
   "metadata": {
    "cell_style": "split",
    "slideshow": {
     "slide_type": "fragment"
    }
   },
   "source": [
    "#### Initial vs Current configuration\n",
    "-----\n",
    "\n",
    "\\begin{equation} \\label{residual}\n",
    "    {\\underbrace{\\nabla_X \\boldsymbol{v} \\colon \\boldsymbol{FS}}_{\\text{Initial Residual}}}\n",
    "     \\xrightarrow[]{\\text{push forward}}\n",
    "     {\\underbrace{\\nabla_x \\boldsymbol{v} \\colon \\boldsymbol{\\tau}}_{\\text{Current Residual}}}\n",
    "\\end{equation}\n",
    "\n",
    "\\begin{equation} \\label{Jacobian}\n",
    "    {\\underbrace{\\nabla_X\\boldsymbol{v}\\colon \\Big(\\text{d}\\boldsymbol{F}\\boldsymbol{S} + \\boldsymbol{F}\\text{d}\\boldsymbol{S}\\Big)}_\\text{Initial Jacobian}}\n",
    "     \\xrightarrow[]{\\text{push forward}}\n",
    "     {\\underbrace{\\nabla_x\\boldsymbol{v}\\colon \\Big(\\text{d}\\boldsymbol{\\tau} -\\boldsymbol{\\tau}(\\nabla_x \\text{d}\\boldsymbol{u})^T \\Big)}_\\text{Current Jacobian}}\n",
    "\\end{equation}\n",
    "\n",
    "<img align=\"center\" src=\"solids_initial_vs_current.png\" width=\"100%\">"
   ]
  },
  {
   "cell_type": "markdown",
   "id": "0ff566fa",
   "metadata": {
    "cell_style": "center",
    "slideshow": {
     "slide_type": "slide"
    }
   },
   "source": [
    "# Problem space"
   ]
  },
  {
   "cell_type": "markdown",
   "id": "6dec49d3",
   "metadata": {
    "cell_style": "split",
    "slideshow": {
     "slide_type": "-"
    }
   },
   "source": [
    "<img src=\"holes-mesh.gif\" width=\"90%\" align=\"left\">\n"
   ]
  },
  {
   "cell_type": "markdown",
   "id": "dbfe8d37",
   "metadata": {
    "cell_style": "split"
   },
   "source": [
    "## Hex\n",
    "<img align=\"left\" src=\"vtu_output/hex_res0.png\" width=\"300\"> \n",
    "<img align=\"left\" src=\"vtu_output/hex_res2.png\" width=\"300\"> "
   ]
  },
  {
   "cell_type": "markdown",
   "id": "fd69fd0b",
   "metadata": {
    "cell_style": "split"
   },
   "source": [
    "## Tet\n",
    "<img align=\"left\" src=\"vtu_output/tet_res0.png\" width=\"300\"> \n",
    "<img align=\"left\" src=\"vtu_output/tet_res2.png\" width=\"300\">"
   ]
  },
  {
   "cell_type": "markdown",
   "id": "bfb79003",
   "metadata": {
    "slideshow": {
     "slide_type": "slide"
    }
   },
   "source": [
    "## $p$-Refinement Study"
   ]
  },
  {
   "cell_type": "markdown",
   "id": "c760a3ea",
   "metadata": {},
   "source": [
    "<img align=\"center\" src=\"p-refinement.png\" width=\"70%\">"
   ]
  },
  {
   "cell_type": "markdown",
   "id": "e095f56d",
   "metadata": {
    "slideshow": {
     "slide_type": "slide"
    }
   },
   "source": [
    "## libCEED-Enzyme (WIP)  <img align=\"right\" src=\"ceed-logo-no-words.png\" width=\"100\"/> <img align=\"right\" src=\"enzyme-logo.svg\" width=\"100\"/>  "
   ]
  },
  {
   "cell_type": "markdown",
   "id": "b170a6b1",
   "metadata": {
    "cell_style": "center"
   },
   "source": [
    "* Constitutive modeling\n",
    "\n",
    "$$\n",
    "\\boldsymbol S = \\lambda (trace \\boldsymbol E) \\boldsymbol I_3 + 2 \\mu \\boldsymbol E\n",
    "$$\n",
    "\n",
    "* Newton linearization\n",
    "\n",
    "$$\n",
    "d \\boldsymbol S = \\frac{\\partial \\boldsymbol S}{\\partial \\boldsymbol E} \\!:\\! d  \\boldsymbol E\n",
    "= \\lambda (\\boldsymbol C^{-1} \\!:\\! d \\boldsymbol E) \\boldsymbol C^{-1}\n",
    "  + 2 (\\mu - \\lambda \\log J) \\boldsymbol C^{-1} d \\boldsymbol E \\, \\boldsymbol C^{-1}\n",
    "$$"
   ]
  },
  {
   "cell_type": "markdown",
   "id": "200b3251",
   "metadata": {
    "cell_style": "center"
   },
   "source": [
    "<sub><sup>$S$ = Second Piola-Kirchhoff tensor\n",
    "    \n",
    "<sub><sup>$E$ = Green-Lagrange strain tensor\n",
    "\n",
    "<sub><sup>$C$ = Cauchy-Green tensor ($\\boldsymbol C = \\boldsymbol I_3 + 2 \\boldsymbol E$ )\n",
    "\n",
    "<sub><sup>$J = \\lvert \\boldsymbol F \\rvert = \\sqrt{\\lvert \\boldsymbol C \\rvert}$\n",
    "\n",
    "<sub><sup>$\\mu$, $\\lambda$ = Lame constants"
   ]
  },
  {
   "cell_type": "markdown",
   "id": "2268fada",
   "metadata": {
    "slideshow": {
     "slide_type": "slide"
    }
   },
   "source": [
    "## libCEED-Enzyme (WIP)  <img align=\"right\" src=\"ceed-logo-no-words.png\" width=\"100\"/> <img align=\"right\" src=\"enzyme-logo.svg\" width=\"100\"/>  "
   ]
  },
  {
   "cell_type": "markdown",
   "id": "2a595c20",
   "metadata": {
    "cell_style": "center",
    "slideshow": {
     "slide_type": "-"
    }
   },
   "source": [
    "```c\n",
    "// Compute Second Piola-Kirchhoff S(E)\n",
    "int computeS(CeedScalar S[6], CeedScalar E[6], const CeedScalar lambda, const CeedScalar mu);\n",
    "\n",
    "// Get tape size\n",
    "__enzyme_augmentsize(computeSfwd, enzyme_dup, enzyme_dup, enzyme_const, enzyme_const);\n",
    "\n",
    "// Forward mode\n",
    "__enzyme_augmentfwd((void *)computeS, enzyme_allocated, sizeof(tape[0]), enzyme_tape, tape, S, \n",
    "                    (double *)NULL, E, (double *)NULL, enzyme_const, lambda, enzyme_const, mu);\n",
    "\n",
    "// Reverse mode\n",
    "__enzyme_reverse((void *)computeS, enzyme_allocated, sizeof(tape[0]), enzyme_tape, tape, \n",
    "                 (double *)NULL, dS, (double *)NULL, dE, enzyme_const, lambda, enzyme_const, mu);\n",
    "\n",
    "```"
   ]
  },
  {
   "cell_type": "markdown",
   "id": "a8ff5e10",
   "metadata": {
    "cell_style": "split",
    "slideshow": {
     "slide_type": "slide"
    }
   },
   "source": [
    "# Outlook\n",
    "\n",
    "  * Robust matrix-free solvers\n",
    "  * Strong scaling\n",
    "  * SYCL/DPC++ backend\n",
    "  * Fluids - Shock-capturing\n",
    "  * Fluids - Turbulence modeling\n",
    "  * We invite contributors and friendly users\n",
    "\n",
    "\n",
    "\n",
    "&nbsp;\n",
    "\n",
    "&nbsp;\n",
    "\n",
    "&nbsp;\n",
    "\n",
    "```\n",
    "This material is based upon work supported \n",
    "by the U.S. Department of Energy, Office of \n",
    "Science, Office of Advanced Scientific \n",
    "Computing Research under Award Number DE-SC0016140.\n",
    "\n",
    "```"
   ]
  },
  {
   "cell_type": "markdown",
   "id": "8fccb7d6",
   "metadata": {
    "cell_style": "split",
    "slideshow": {
     "slide_type": "fragment"
    }
   },
   "source": [
    "<img align=\"center\" src=\"baby-ratel.jpeg\" width=\"60%\"/>"
   ]
  },
  {
   "cell_type": "markdown",
   "id": "082b928d",
   "metadata": {
    "cell_style": "split",
    "slideshow": {
     "slide_type": "fragment"
    }
   },
   "source": [
    "<img align=\"left\" src=\"ratel-gitlab.png\" width=\"100%\"/>\n",
    "\n",
    "\n",
    "[https://gitlab.com/micromorph/ratel](https://gitlab.com/micromorph/ratel)"
   ]
  }
 ],
 "metadata": {
  "celltoolbar": "Slideshow",
  "kernelspec": {
   "display_name": "Python 3 (ipykernel)",
   "language": "python",
   "name": "python3"
  },
  "language_info": {
   "codemirror_mode": {
    "name": "ipython",
    "version": 3
   },
   "file_extension": ".py",
   "mimetype": "text/x-python",
   "name": "python",
   "nbconvert_exporter": "python",
   "pygments_lexer": "ipython3",
   "version": "3.8.8"
  }
 },
 "nbformat": 4,
 "nbformat_minor": 5
}
