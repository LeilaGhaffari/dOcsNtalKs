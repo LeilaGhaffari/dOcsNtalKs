{
 "cells": [
  {
   "cell_type": "code",
   "execution_count": 1,
   "metadata": {},
   "outputs": [],
   "source": [
    "#-----------------------------------------------------------------------\n",
    "# Solution to the compressible Blasius equation (boundary value problem)\n",
    "#\n",
    "# 2 (ρ μ f'')' + f f'' = 0\n",
    "# (ρ μ h')' + Pr f h' + Pr (γ-1) Ma^2 ρ μ (f'')^2 = 0\n",
    "#\n",
    "# where\n",
    "#    f: Similarity form for the stream function = ψ/√(2 ν_∞ U x)\n",
    "#    h: Specific enthalpy at the wall\n",
    "#\n",
    "# with isothermal bc:\n",
    "#     f(0)  = f'(0) = 0 \n",
    "#     f'(∞) = 1\n",
    "#     h(∞)  = 1\n",
    "#     h     = θ(0)\n",
    "#\n",
    "# following Howarth-Dorodnitsyn transformation \n",
    "#     θ     = T / T_∞\n",
    "#-----------------------------------------------------------------------"
   ]
  },
  {
   "cell_type": "code",
   "execution_count": 2,
   "metadata": {},
   "outputs": [],
   "source": [
    "using Plots\n",
    "using Polynomials\n",
    "using FastGaussQuadrature\n",
    "using NLsolve\n",
    "using Interpolations\n",
    "using LinearAlgebra"
   ]
  },
  {
   "cell_type": "code",
   "execution_count": 3,
   "metadata": {},
   "outputs": [],
   "source": [
    "default(linewidth=3)\n",
    "γ      = 1.4;  # specific heat ratio\n",
    "Pr     = 0.7;  # Prandtl number\n",
    "Ma     = 1.0;  # Mach number\n",
    "h_wall = 1;"
   ]
  },
  {
   "cell_type": "code",
   "execution_count": 4,
   "metadata": {},
   "outputs": [],
   "source": [
    "η_max = 10.0\n",
    "N = 30\n",
    "x_resid = gausslegendre(N-3)[1]\n",
    "dx_dη = 2 / η_max\n",
    "\n",
    "UnpackCheb(X) = ChebyshevT(X[1:N]), ChebyshevT(X[N+1:end]);"
   ]
  },
  {
   "cell_type": "code",
   "execution_count": 5,
   "metadata": {},
   "outputs": [],
   "source": [
    "X = zeros(2N-1);"
   ]
  },
  {
   "cell_type": "code",
   "execution_count": 6,
   "metadata": {},
   "outputs": [
    {
     "data": {
      "text/plain": [
       "CompressibleBlasiusResidual (generic function with 1 method)"
      ]
     },
     "execution_count": 6,
     "metadata": {},
     "output_type": "execute_result"
    }
   ],
   "source": [
    "function CompressibleBlasiusResidual(X)\n",
    "    f, h = UnpackCheb(X)\n",
    "    f_η = derivative(f, 1) * dx_dη\n",
    "    f_ηη = derivative(f_η, 1) * dx_dη\n",
    "    f_ηηη = derivative(f_ηη, 1) * dx_dη\n",
    "    h_η = derivative(h, 1) * dx_dη\n",
    "    h_ηη = derivative(h_η, 1) * dx_dη\n",
    "    blasius = 2 * f_ηηη + f_ηη * f\n",
    "    blasius_h = h_ηη + Pr * f * h_η + Pr * (γ - 1) * Ma * Ma * f_ηη * f_ηη # enthalpy equation\n",
    "    R = zeros(2N-1)\n",
    "    R[1] = f(-1)\n",
    "    R[2] = f_η(-1)\n",
    "    R[3] = f_η(1.) - 1\n",
    "    R[4:N] = blasius.(x_resid)\n",
    "    R[N+1] = h(-1.) - h_wall\n",
    "    R[N+2] = h(1) - 1\n",
    "    R[N+3:end] = blasius_h.(x_resid)\n",
    "    R\n",
    "end"
   ]
  },
  {
   "cell_type": "code",
   "execution_count": 7,
   "metadata": {},
   "outputs": [],
   "source": [
    "solution = nlsolve(CompressibleBlasiusResidual, X)\n",
    "f, h = UnpackCheb(solution.zero)\n",
    "f_η  = derivative(f, 1) * dx_dη\n",
    "f_ηη = derivative(f_η, 1) * dx_dη;"
   ]
  },
  {
   "cell_type": "code",
   "execution_count": 8,
   "metadata": {},
   "outputs": [
    {
     "data": {
      "image/svg+xml": [
       "<?xml version=\"1.0\" encoding=\"utf-8\"?>\n",
       "<svg xmlns=\"http://www.w3.org/2000/svg\" xmlns:xlink=\"http://www.w3.org/1999/xlink\" width=\"600\" height=\"400\" viewBox=\"0 0 2400 1600\">\n",
       "<defs>\n",
       "  <clipPath id=\"clip760\">\n",
       "    <rect x=\"0\" y=\"0\" width=\"2400\" height=\"1600\"/>\n",
       "  </clipPath>\n",
       "</defs>\n",
       "<path clip-path=\"url(#clip760)\" d=\"\n",
       "M0 1600 L2400 1600 L2400 0 L0 0  Z\n",
       "  \" fill=\"#ffffff\" fill-rule=\"evenodd\" fill-opacity=\"1\"/>\n",
       "<defs>\n",
       "  <clipPath id=\"clip761\">\n",
       "    <rect x=\"480\" y=\"0\" width=\"1681\" height=\"1600\"/>\n",
       "  </clipPath>\n",
       "</defs>\n",
       "<path clip-path=\"url(#clip760)\" d=\"\n",
       "M112.177 1423.18 L2352.76 1423.18 L2352.76 47.2441 L112.177 47.2441  Z\n",
       "  \" fill=\"#ffffff\" fill-rule=\"evenodd\" fill-opacity=\"1\"/>\n",
       "<defs>\n",
       "  <clipPath id=\"clip762\">\n",
       "    <rect x=\"112\" y=\"47\" width=\"2242\" height=\"1377\"/>\n",
       "  </clipPath>\n",
       "</defs>\n",
       "<polyline clip-path=\"url(#clip762)\" style=\"stroke:#000000; stroke-linecap:butt; stroke-linejoin:round; stroke-width:2; stroke-opacity:0.1; fill:none\" points=\"\n",
       "  175.59,1423.18 175.59,47.2441 \n",
       "  \"/>\n",
       "<polyline clip-path=\"url(#clip762)\" style=\"stroke:#000000; stroke-linecap:butt; stroke-linejoin:round; stroke-width:2; stroke-opacity:0.1; fill:none\" points=\"\n",
       "  704.028,1423.18 704.028,47.2441 \n",
       "  \"/>\n",
       "<polyline clip-path=\"url(#clip762)\" style=\"stroke:#000000; stroke-linecap:butt; stroke-linejoin:round; stroke-width:2; stroke-opacity:0.1; fill:none\" points=\"\n",
       "  1232.47,1423.18 1232.47,47.2441 \n",
       "  \"/>\n",
       "<polyline clip-path=\"url(#clip762)\" style=\"stroke:#000000; stroke-linecap:butt; stroke-linejoin:round; stroke-width:2; stroke-opacity:0.1; fill:none\" points=\"\n",
       "  1760.9,1423.18 1760.9,47.2441 \n",
       "  \"/>\n",
       "<polyline clip-path=\"url(#clip762)\" style=\"stroke:#000000; stroke-linecap:butt; stroke-linejoin:round; stroke-width:2; stroke-opacity:0.1; fill:none\" points=\"\n",
       "  2289.34,1423.18 2289.34,47.2441 \n",
       "  \"/>\n",
       "<polyline clip-path=\"url(#clip760)\" style=\"stroke:#000000; stroke-linecap:butt; stroke-linejoin:round; stroke-width:4; stroke-opacity:1; fill:none\" points=\"\n",
       "  112.177,1423.18 2352.76,1423.18 \n",
       "  \"/>\n",
       "<polyline clip-path=\"url(#clip760)\" style=\"stroke:#000000; stroke-linecap:butt; stroke-linejoin:round; stroke-width:4; stroke-opacity:1; fill:none\" points=\"\n",
       "  175.59,1423.18 175.59,1404.28 \n",
       "  \"/>\n",
       "<polyline clip-path=\"url(#clip760)\" style=\"stroke:#000000; stroke-linecap:butt; stroke-linejoin:round; stroke-width:4; stroke-opacity:1; fill:none\" points=\"\n",
       "  704.028,1423.18 704.028,1404.28 \n",
       "  \"/>\n",
       "<polyline clip-path=\"url(#clip760)\" style=\"stroke:#000000; stroke-linecap:butt; stroke-linejoin:round; stroke-width:4; stroke-opacity:1; fill:none\" points=\"\n",
       "  1232.47,1423.18 1232.47,1404.28 \n",
       "  \"/>\n",
       "<polyline clip-path=\"url(#clip760)\" style=\"stroke:#000000; stroke-linecap:butt; stroke-linejoin:round; stroke-width:4; stroke-opacity:1; fill:none\" points=\"\n",
       "  1760.9,1423.18 1760.9,1404.28 \n",
       "  \"/>\n",
       "<polyline clip-path=\"url(#clip760)\" style=\"stroke:#000000; stroke-linecap:butt; stroke-linejoin:round; stroke-width:4; stroke-opacity:1; fill:none\" points=\"\n",
       "  2289.34,1423.18 2289.34,1404.28 \n",
       "  \"/>\n",
       "<path clip-path=\"url(#clip760)\" d=\"M152.974 1452.37 Q149.363 1452.37 147.534 1455.94 Q145.729 1459.48 145.729 1466.61 Q145.729 1473.71 147.534 1477.28 Q149.363 1480.82 152.974 1480.82 Q156.608 1480.82 158.414 1477.28 Q160.243 1473.71 160.243 1466.61 Q160.243 1459.48 158.414 1455.94 Q156.608 1452.37 152.974 1452.37 M152.974 1448.67 Q158.784 1448.67 161.84 1453.27 Q164.919 1457.86 164.919 1466.61 Q164.919 1475.33 161.84 1479.94 Q158.784 1484.52 152.974 1484.52 Q147.164 1484.52 144.085 1479.94 Q141.03 1475.33 141.03 1466.61 Q141.03 1457.86 144.085 1453.27 Q147.164 1448.67 152.974 1448.67 Z\" fill=\"#000000\" fill-rule=\"evenodd\" fill-opacity=\"1\" /><path clip-path=\"url(#clip760)\" d=\"M173.136 1477.97 L178.02 1477.97 L178.02 1483.85 L173.136 1483.85 L173.136 1477.97 Z\" fill=\"#000000\" fill-rule=\"evenodd\" fill-opacity=\"1\" /><path clip-path=\"url(#clip760)\" d=\"M198.205 1452.37 Q194.594 1452.37 192.766 1455.94 Q190.96 1459.48 190.96 1466.61 Q190.96 1473.71 192.766 1477.28 Q194.594 1480.82 198.205 1480.82 Q201.84 1480.82 203.645 1477.28 Q205.474 1473.71 205.474 1466.61 Q205.474 1459.48 203.645 1455.94 Q201.84 1452.37 198.205 1452.37 M198.205 1448.67 Q204.016 1448.67 207.071 1453.27 Q210.15 1457.86 210.15 1466.61 Q210.15 1475.33 207.071 1479.94 Q204.016 1484.52 198.205 1484.52 Q192.395 1484.52 189.317 1479.94 Q186.261 1475.33 186.261 1466.61 Q186.261 1457.86 189.317 1453.27 Q192.395 1448.67 198.205 1448.67 Z\" fill=\"#000000\" fill-rule=\"evenodd\" fill-opacity=\"1\" /><path clip-path=\"url(#clip760)\" d=\"M675.764 1479.92 L692.084 1479.92 L692.084 1483.85 L670.139 1483.85 L670.139 1479.92 Q672.801 1477.16 677.385 1472.53 Q681.991 1467.88 683.172 1466.54 Q685.417 1464.01 686.297 1462.28 Q687.2 1460.52 687.2 1458.83 Q687.2 1456.07 685.255 1454.34 Q683.334 1452.6 680.232 1452.6 Q678.033 1452.6 675.579 1453.37 Q673.149 1454.13 670.371 1455.68 L670.371 1450.96 Q673.195 1449.82 675.649 1449.25 Q678.102 1448.67 680.139 1448.67 Q685.51 1448.67 688.704 1451.35 Q691.899 1454.04 691.899 1458.53 Q691.899 1460.66 691.088 1462.58 Q690.301 1464.48 688.195 1467.07 Q687.616 1467.74 684.514 1470.96 Q681.413 1474.15 675.764 1479.92 Z\" fill=\"#000000\" fill-rule=\"evenodd\" fill-opacity=\"1\" /><path clip-path=\"url(#clip760)\" d=\"M701.899 1477.97 L706.783 1477.97 L706.783 1483.85 L701.899 1483.85 L701.899 1477.97 Z\" fill=\"#000000\" fill-rule=\"evenodd\" fill-opacity=\"1\" /><path clip-path=\"url(#clip760)\" d=\"M717.014 1449.29 L735.371 1449.29 L735.371 1453.23 L721.297 1453.23 L721.297 1461.7 Q722.315 1461.35 723.334 1461.19 Q724.352 1461 725.371 1461 Q731.158 1461 734.537 1464.18 Q737.917 1467.35 737.917 1472.76 Q737.917 1478.34 734.445 1481.44 Q730.972 1484.52 724.653 1484.52 Q722.477 1484.52 720.209 1484.15 Q717.963 1483.78 715.556 1483.04 L715.556 1478.34 Q717.639 1479.48 719.861 1480.03 Q722.084 1480.59 724.56 1480.59 Q728.565 1480.59 730.903 1478.48 Q733.241 1476.38 733.241 1472.76 Q733.241 1469.15 730.903 1467.05 Q728.565 1464.94 724.56 1464.94 Q722.685 1464.94 720.81 1465.36 Q718.959 1465.77 717.014 1466.65 L717.014 1449.29 Z\" fill=\"#000000\" fill-rule=\"evenodd\" fill-opacity=\"1\" /><path clip-path=\"url(#clip760)\" d=\"M1199.63 1449.29 L1217.99 1449.29 L1217.99 1453.23 L1203.91 1453.23 L1203.91 1461.7 Q1204.93 1461.35 1205.95 1461.19 Q1206.97 1461 1207.99 1461 Q1213.77 1461 1217.15 1464.18 Q1220.53 1467.35 1220.53 1472.76 Q1220.53 1478.34 1217.06 1481.44 Q1213.59 1484.52 1207.27 1484.52 Q1205.09 1484.52 1202.83 1484.15 Q1200.58 1483.78 1198.17 1483.04 L1198.17 1478.34 Q1200.26 1479.48 1202.48 1480.03 Q1204.7 1480.59 1207.18 1480.59 Q1211.18 1480.59 1213.52 1478.48 Q1215.86 1476.38 1215.86 1472.76 Q1215.86 1469.15 1213.52 1467.05 Q1211.18 1464.94 1207.18 1464.94 Q1205.3 1464.94 1203.43 1465.36 Q1201.58 1465.77 1199.63 1466.65 L1199.63 1449.29 Z\" fill=\"#000000\" fill-rule=\"evenodd\" fill-opacity=\"1\" /><path clip-path=\"url(#clip760)\" d=\"M1229.75 1477.97 L1234.63 1477.97 L1234.63 1483.85 L1229.75 1483.85 L1229.75 1477.97 Z\" fill=\"#000000\" fill-rule=\"evenodd\" fill-opacity=\"1\" /><path clip-path=\"url(#clip760)\" d=\"M1254.82 1452.37 Q1251.2 1452.37 1249.38 1455.94 Q1247.57 1459.48 1247.57 1466.61 Q1247.57 1473.71 1249.38 1477.28 Q1251.2 1480.82 1254.82 1480.82 Q1258.45 1480.82 1260.26 1477.28 Q1262.08 1473.71 1262.08 1466.61 Q1262.08 1459.48 1260.26 1455.94 Q1258.45 1452.37 1254.82 1452.37 M1254.82 1448.67 Q1260.63 1448.67 1263.68 1453.27 Q1266.76 1457.86 1266.76 1466.61 Q1266.76 1475.33 1263.68 1479.94 Q1260.63 1484.52 1254.82 1484.52 Q1249.01 1484.52 1245.93 1479.94 Q1242.87 1475.33 1242.87 1466.61 Q1242.87 1457.86 1245.93 1453.27 Q1249.01 1448.67 1254.82 1448.67 Z\" fill=\"#000000\" fill-rule=\"evenodd\" fill-opacity=\"1\" /><path clip-path=\"url(#clip760)\" d=\"M1727.22 1449.29 L1749.45 1449.29 L1749.45 1451.28 L1736.9 1483.85 L1732.02 1483.85 L1743.82 1453.23 L1727.22 1453.23 L1727.22 1449.29 Z\" fill=\"#000000\" fill-rule=\"evenodd\" fill-opacity=\"1\" /><path clip-path=\"url(#clip760)\" d=\"M1758.57 1477.97 L1763.45 1477.97 L1763.45 1483.85 L1758.57 1483.85 L1758.57 1477.97 Z\" fill=\"#000000\" fill-rule=\"evenodd\" fill-opacity=\"1\" /><path clip-path=\"url(#clip760)\" d=\"M1773.68 1449.29 L1792.04 1449.29 L1792.04 1453.23 L1777.97 1453.23 L1777.97 1461.7 Q1778.98 1461.35 1780 1461.19 Q1781.02 1461 1782.04 1461 Q1787.83 1461 1791.21 1464.18 Q1794.59 1467.35 1794.59 1472.76 Q1794.59 1478.34 1791.11 1481.44 Q1787.64 1484.52 1781.32 1484.52 Q1779.15 1484.52 1776.88 1484.15 Q1774.63 1483.78 1772.22 1483.04 L1772.22 1478.34 Q1774.31 1479.48 1776.53 1480.03 Q1778.75 1480.59 1781.23 1480.59 Q1785.23 1480.59 1787.57 1478.48 Q1789.91 1476.38 1789.91 1472.76 Q1789.91 1469.15 1787.57 1467.05 Q1785.23 1464.94 1781.23 1464.94 Q1779.35 1464.94 1777.48 1465.36 Q1775.63 1465.77 1773.68 1466.65 L1773.68 1449.29 Z\" fill=\"#000000\" fill-rule=\"evenodd\" fill-opacity=\"1\" /><path clip-path=\"url(#clip760)\" d=\"M2241.42 1479.92 L2249.05 1479.92 L2249.05 1453.55 L2240.74 1455.22 L2240.74 1450.96 L2249.01 1449.29 L2253.68 1449.29 L2253.68 1479.92 L2261.32 1479.92 L2261.32 1483.85 L2241.42 1483.85 L2241.42 1479.92 Z\" fill=\"#000000\" fill-rule=\"evenodd\" fill-opacity=\"1\" /><path clip-path=\"url(#clip760)\" d=\"M2280.77 1452.37 Q2277.16 1452.37 2275.33 1455.94 Q2273.52 1459.48 2273.52 1466.61 Q2273.52 1473.71 2275.33 1477.28 Q2277.16 1480.82 2280.77 1480.82 Q2284.4 1480.82 2286.21 1477.28 Q2288.04 1473.71 2288.04 1466.61 Q2288.04 1459.48 2286.21 1455.94 Q2284.4 1452.37 2280.77 1452.37 M2280.77 1448.67 Q2286.58 1448.67 2289.63 1453.27 Q2292.71 1457.86 2292.71 1466.61 Q2292.71 1475.33 2289.63 1479.94 Q2286.58 1484.52 2280.77 1484.52 Q2274.96 1484.52 2271.88 1479.94 Q2268.82 1475.33 2268.82 1466.61 Q2268.82 1457.86 2271.88 1453.27 Q2274.96 1448.67 2280.77 1448.67 Z\" fill=\"#000000\" fill-rule=\"evenodd\" fill-opacity=\"1\" /><path clip-path=\"url(#clip760)\" d=\"M2300.93 1477.97 L2305.81 1477.97 L2305.81 1483.85 L2300.93 1483.85 L2300.93 1477.97 Z\" fill=\"#000000\" fill-rule=\"evenodd\" fill-opacity=\"1\" /><path clip-path=\"url(#clip760)\" d=\"M2326 1452.37 Q2322.39 1452.37 2320.56 1455.94 Q2318.75 1459.48 2318.75 1466.61 Q2318.75 1473.71 2320.56 1477.28 Q2322.39 1480.82 2326 1480.82 Q2329.63 1480.82 2331.44 1477.28 Q2333.27 1473.71 2333.27 1466.61 Q2333.27 1459.48 2331.44 1455.94 Q2329.63 1452.37 2326 1452.37 M2326 1448.67 Q2331.81 1448.67 2334.86 1453.27 Q2337.94 1457.86 2337.94 1466.61 Q2337.94 1475.33 2334.86 1479.94 Q2331.81 1484.52 2326 1484.52 Q2320.19 1484.52 2317.11 1479.94 Q2314.05 1475.33 2314.05 1466.61 Q2314.05 1457.86 2317.11 1453.27 Q2320.19 1448.67 2326 1448.67 Z\" fill=\"#000000\" fill-rule=\"evenodd\" fill-opacity=\"1\" /><path clip-path=\"url(#clip760)\" d=\"M1247.39 1546.53 L1247.39 1581.6 L1241.54 1581.6 L1241.54 1546.72 Q1241.54 1541.66 1239.56 1539.14 Q1237.59 1536.63 1233.64 1536.63 Q1228.9 1536.63 1226.16 1539.65 Q1223.43 1542.68 1223.43 1547.9 L1223.43 1568.04 L1217.54 1568.04 L1217.54 1532.4 L1223.43 1532.4 L1223.43 1537.93 Q1225.53 1534.72 1228.36 1533.13 Q1231.23 1531.54 1234.95 1531.54 Q1241.09 1531.54 1244.24 1535.32 Q1247.39 1539.14 1247.39 1546.53 Z\" fill=\"#000000\" fill-rule=\"evenodd\" fill-opacity=\"1\" /><polyline clip-path=\"url(#clip762)\" style=\"stroke:#000000; stroke-linecap:butt; stroke-linejoin:round; stroke-width:2; stroke-opacity:0.1; fill:none\" points=\"\n",
       "  112.177,1423.18 2352.76,1423.18 \n",
       "  \"/>\n",
       "<polyline clip-path=\"url(#clip762)\" style=\"stroke:#000000; stroke-linecap:butt; stroke-linejoin:round; stroke-width:2; stroke-opacity:0.1; fill:none\" points=\"\n",
       "  112.177,1079.2 2352.76,1079.2 \n",
       "  \"/>\n",
       "<polyline clip-path=\"url(#clip762)\" style=\"stroke:#000000; stroke-linecap:butt; stroke-linejoin:round; stroke-width:2; stroke-opacity:0.1; fill:none\" points=\"\n",
       "  112.177,735.212 2352.76,735.212 \n",
       "  \"/>\n",
       "<polyline clip-path=\"url(#clip762)\" style=\"stroke:#000000; stroke-linecap:butt; stroke-linejoin:round; stroke-width:2; stroke-opacity:0.1; fill:none\" points=\"\n",
       "  112.177,391.228 2352.76,391.228 \n",
       "  \"/>\n",
       "<polyline clip-path=\"url(#clip762)\" style=\"stroke:#000000; stroke-linecap:butt; stroke-linejoin:round; stroke-width:2; stroke-opacity:0.1; fill:none\" points=\"\n",
       "  112.177,47.2441 2352.76,47.2441 \n",
       "  \"/>\n",
       "<polyline clip-path=\"url(#clip760)\" style=\"stroke:#000000; stroke-linecap:butt; stroke-linejoin:round; stroke-width:4; stroke-opacity:1; fill:none\" points=\"\n",
       "  112.177,1423.18 112.177,47.2441 \n",
       "  \"/>\n",
       "<polyline clip-path=\"url(#clip760)\" style=\"stroke:#000000; stroke-linecap:butt; stroke-linejoin:round; stroke-width:4; stroke-opacity:1; fill:none\" points=\"\n",
       "  112.177,1423.18 131.075,1423.18 \n",
       "  \"/>\n",
       "<polyline clip-path=\"url(#clip760)\" style=\"stroke:#000000; stroke-linecap:butt; stroke-linejoin:round; stroke-width:4; stroke-opacity:1; fill:none\" points=\"\n",
       "  112.177,1079.2 131.075,1079.2 \n",
       "  \"/>\n",
       "<polyline clip-path=\"url(#clip760)\" style=\"stroke:#000000; stroke-linecap:butt; stroke-linejoin:round; stroke-width:4; stroke-opacity:1; fill:none\" points=\"\n",
       "  112.177,735.212 131.075,735.212 \n",
       "  \"/>\n",
       "<polyline clip-path=\"url(#clip760)\" style=\"stroke:#000000; stroke-linecap:butt; stroke-linejoin:round; stroke-width:4; stroke-opacity:1; fill:none\" points=\"\n",
       "  112.177,391.228 131.075,391.228 \n",
       "  \"/>\n",
       "<polyline clip-path=\"url(#clip760)\" style=\"stroke:#000000; stroke-linecap:butt; stroke-linejoin:round; stroke-width:4; stroke-opacity:1; fill:none\" points=\"\n",
       "  112.177,47.2441 131.075,47.2441 \n",
       "  \"/>\n",
       "<path clip-path=\"url(#clip760)\" d=\"M64.2328 1408.98 Q60.6217 1408.98 58.793 1412.54 Q56.9875 1416.08 56.9875 1423.21 Q56.9875 1430.32 58.793 1433.89 Q60.6217 1437.43 64.2328 1437.43 Q67.867 1437.43 69.6726 1433.89 Q71.5013 1430.32 71.5013 1423.21 Q71.5013 1416.08 69.6726 1412.54 Q67.867 1408.98 64.2328 1408.98 M64.2328 1405.27 Q70.0429 1405.27 73.0985 1409.88 Q76.1772 1414.46 76.1772 1423.21 Q76.1772 1431.94 73.0985 1436.55 Q70.0429 1441.13 64.2328 1441.13 Q58.4226 1441.13 55.344 1436.55 Q52.2884 1431.94 52.2884 1423.21 Q52.2884 1414.46 55.344 1409.88 Q58.4226 1405.27 64.2328 1405.27 Z\" fill=\"#000000\" fill-rule=\"evenodd\" fill-opacity=\"1\" /><path clip-path=\"url(#clip760)\" d=\"M56.2699 1092.54 L63.9087 1092.54 L63.9087 1066.18 L55.5986 1067.84 L55.5986 1063.58 L63.8624 1061.92 L68.5383 1061.92 L68.5383 1092.54 L76.1772 1092.54 L76.1772 1096.48 L56.2699 1096.48 L56.2699 1092.54 Z\" fill=\"#000000\" fill-rule=\"evenodd\" fill-opacity=\"1\" /><path clip-path=\"url(#clip760)\" d=\"M59.8578 748.557 L76.1772 748.557 L76.1772 752.492 L54.2328 752.492 L54.2328 748.557 Q56.8949 745.802 61.4782 741.173 Q66.0846 736.52 67.2652 735.177 Q69.5105 732.654 70.3902 730.918 Q71.2929 729.159 71.2929 727.469 Q71.2929 724.714 69.3485 722.978 Q67.4272 721.242 64.3254 721.242 Q62.1263 721.242 59.6726 722.006 Q57.2421 722.77 54.4643 724.321 L54.4643 719.599 Q57.2884 718.464 59.7421 717.886 Q62.1958 717.307 64.2328 717.307 Q69.6031 717.307 72.7976 719.992 Q75.992 722.677 75.992 727.168 Q75.992 729.298 75.1818 731.219 Q74.3948 733.117 72.2883 735.71 Q71.7096 736.381 68.6078 739.599 Q65.5059 742.793 59.8578 748.557 Z\" fill=\"#000000\" fill-rule=\"evenodd\" fill-opacity=\"1\" /><path clip-path=\"url(#clip760)\" d=\"M69.0476 389.874 Q72.404 390.591 74.279 392.86 Q76.1772 395.128 76.1772 398.462 Q76.1772 403.578 72.6587 406.378 Q69.1402 409.179 62.6587 409.179 Q60.4828 409.179 58.168 408.74 Q55.8764 408.323 53.4227 407.466 L53.4227 402.953 Q55.3671 404.087 57.6819 404.665 Q59.9967 405.244 62.5198 405.244 Q66.918 405.244 69.2096 403.508 Q71.5244 401.772 71.5244 398.462 Q71.5244 395.406 69.3717 393.693 Q67.242 391.957 63.4226 391.957 L59.3949 391.957 L59.3949 388.115 L63.6078 388.115 Q67.0569 388.115 68.8855 386.749 Q70.7142 385.36 70.7142 382.767 Q70.7142 380.105 68.8161 378.693 Q66.9411 377.258 63.4226 377.258 Q61.5013 377.258 59.3023 377.675 Q57.1032 378.092 54.4643 378.971 L54.4643 374.805 Q57.1264 374.064 59.4412 373.693 Q61.7791 373.323 63.8393 373.323 Q69.1633 373.323 72.2652 375.754 Q75.367 378.161 75.367 382.281 Q75.367 385.152 73.7235 387.142 Q72.08 389.11 69.0476 389.874 Z\" fill=\"#000000\" fill-rule=\"evenodd\" fill-opacity=\"1\" /><path clip-path=\"url(#clip760)\" d=\"M66.5939 34.0381 L54.7884 52.4871 L66.5939 52.4871 L66.5939 34.0381 M65.367 29.9641 L71.2466 29.9641 L71.2466 52.4871 L76.1772 52.4871 L76.1772 56.376 L71.2466 56.376 L71.2466 64.5241 L66.5939 64.5241 L66.5939 56.376 L50.9921 56.376 L50.9921 51.8621 L65.367 29.9641 Z\" fill=\"#000000\" fill-rule=\"evenodd\" fill-opacity=\"1\" /><polyline clip-path=\"url(#clip762)\" style=\"stroke:#009af9; stroke-linecap:butt; stroke-linejoin:round; stroke-width:12; stroke-opacity:1; fill:none\" points=\"\n",
       "  175.59,1423.18 307.699,1400.89 439.809,1334.42 571.919,1225.93 704.028,1080.46 836.138,905.901 968.247,711.451 1100.36,505.439 1232.47,293.786 1364.58,79.8437 \n",
       "  1496.69,-134.87 1628.8,-349.8 1760.9,-564.778 1893.01,-779.767 2025.12,-994.756 2157.23,-1209.75 2289.34,-1424.74 \n",
       "  \"/>\n",
       "<polyline clip-path=\"url(#clip762)\" style=\"stroke:#e26f46; stroke-linecap:butt; stroke-linejoin:round; stroke-width:12; stroke-opacity:1; fill:none\" points=\"\n",
       "  175.59,1423.18 307.699,1351.91 439.809,1282.3 571.919,1218.25 704.028,1164.76 836.138,1125.52 968.247,1100.87 1100.36,1087.84 1232.47,1082.11 1364.58,1080.02 \n",
       "  1496.69,1079.39 1628.8,1079.23 1760.9,1079.2 1893.01,1079.2 2025.12,1079.2 2157.23,1079.2 2289.34,1079.2 \n",
       "  \"/>\n",
       "<polyline clip-path=\"url(#clip762)\" style=\"stroke:#3da44d; stroke-linecap:butt; stroke-linejoin:round; stroke-width:12; stroke-opacity:1; fill:none\" points=\"\n",
       "  175.59,1308.96 307.699,1309.73 439.809,1314.95 571.919,1327.85 704.028,1348.39 836.138,1372.48 968.247,1394.14 1100.36,1409.32 1232.47,1417.71 1364.58,1421.4 \n",
       "  1496.69,1422.7 1628.8,1423.07 1760.9,1423.16 1893.01,1423.18 2025.12,1423.18 2157.23,1423.18 2289.34,1423.18 \n",
       "  \"/>\n",
       "<polyline clip-path=\"url(#clip762)\" style=\"stroke:#c271d2; stroke-linecap:butt; stroke-linejoin:round; stroke-width:12; stroke-opacity:1; fill:none\" points=\"\n",
       "  175.59,1079.2 307.699,1071.8 439.809,1068.6 571.919,1069.16 704.028,1072.04 836.138,1075.29 968.247,1077.57 1100.36,1078.68 1232.47,1079.07 1364.58,1079.17 \n",
       "  1496.69,1079.19 1628.8,1079.2 1760.9,1079.2 1893.01,1079.2 2025.12,1079.2 2157.23,1079.2 2289.34,1079.2 \n",
       "  \"/>\n",
       "<path clip-path=\"url(#clip760)\" d=\"\n",
       "M1991.99 352.309 L2278.07 352.309 L2278.07 93.1086 L1991.99 93.1086  Z\n",
       "  \" fill=\"#ffffff\" fill-rule=\"evenodd\" fill-opacity=\"1\"/>\n",
       "<polyline clip-path=\"url(#clip760)\" style=\"stroke:#000000; stroke-linecap:butt; stroke-linejoin:round; stroke-width:4; stroke-opacity:1; fill:none\" points=\"\n",
       "  1991.99,352.309 2278.07,352.309 2278.07,93.1086 1991.99,93.1086 1991.99,352.309 \n",
       "  \"/>\n",
       "<polyline clip-path=\"url(#clip760)\" style=\"stroke:#009af9; stroke-linecap:butt; stroke-linejoin:round; stroke-width:4; stroke-opacity:1; fill:none\" points=\"\n",
       "  2016.88,144.949 2166.25,144.949 \n",
       "  \"/>\n",
       "<path clip-path=\"url(#clip760)\" d=\"M2207.65 126.21 L2207.65 129.752 L2203.58 129.752 Q2201.29 129.752 2200.39 130.678 Q2199.51 131.604 2199.51 134.011 L2199.51 136.303 L2206.52 136.303 L2206.52 139.613 L2199.51 139.613 L2199.51 162.229 L2195.22 162.229 L2195.22 139.613 L2191.15 139.613 L2191.15 136.303 L2195.22 136.303 L2195.22 134.497 Q2195.22 130.169 2197.24 128.201 Q2199.25 126.21 2203.63 126.21 L2207.65 126.21 Z\" fill=\"#000000\" fill-rule=\"evenodd\" fill-opacity=\"1\" /><polyline clip-path=\"url(#clip760)\" style=\"stroke:#e26f46; stroke-linecap:butt; stroke-linejoin:round; stroke-width:4; stroke-opacity:1; fill:none\" points=\"\n",
       "  2016.88,196.789 2166.25,196.789 \n",
       "  \"/>\n",
       "<path clip-path=\"url(#clip760)\" d=\"M2207.65 178.05 L2207.65 181.592 L2203.58 181.592 Q2201.29 181.592 2200.39 182.518 Q2199.51 183.444 2199.51 185.851 L2199.51 188.143 L2206.52 188.143 L2206.52 191.453 L2199.51 191.453 L2199.51 214.069 L2195.22 214.069 L2195.22 191.453 L2191.15 191.453 L2191.15 188.143 L2195.22 188.143 L2195.22 186.337 Q2195.22 182.009 2197.24 180.041 Q2199.25 178.05 2203.63 178.05 L2207.65 178.05 Z\" fill=\"#000000\" fill-rule=\"evenodd\" fill-opacity=\"1\" /><path clip-path=\"url(#clip760)\" d=\"M2215.25 179.509 L2215.25 192.356 L2211.31 192.356 L2211.31 179.509 L2215.25 179.509 Z\" fill=\"#000000\" fill-rule=\"evenodd\" fill-opacity=\"1\" /><polyline clip-path=\"url(#clip760)\" style=\"stroke:#3da44d; stroke-linecap:butt; stroke-linejoin:round; stroke-width:4; stroke-opacity:1; fill:none\" points=\"\n",
       "  2016.88,248.629 2166.25,248.629 \n",
       "  \"/>\n",
       "<path clip-path=\"url(#clip760)\" d=\"M2207.65 229.89 L2207.65 233.432 L2203.58 233.432 Q2201.29 233.432 2200.39 234.358 Q2199.51 235.284 2199.51 237.691 L2199.51 239.983 L2206.52 239.983 L2206.52 243.293 L2199.51 243.293 L2199.51 265.909 L2195.22 265.909 L2195.22 243.293 L2191.15 243.293 L2191.15 239.983 L2195.22 239.983 L2195.22 238.177 Q2195.22 233.849 2197.24 231.881 Q2199.25 229.89 2203.63 229.89 L2207.65 229.89 Z\" fill=\"#000000\" fill-rule=\"evenodd\" fill-opacity=\"1\" /><path clip-path=\"url(#clip760)\" d=\"M2215.25 231.349 L2215.25 244.196 L2211.31 244.196 L2211.31 231.349 L2215.25 231.349 Z\" fill=\"#000000\" fill-rule=\"evenodd\" fill-opacity=\"1\" /><path clip-path=\"url(#clip760)\" d=\"M2228.28 231.349 L2228.28 244.196 L2224.34 244.196 L2224.34 231.349 L2228.28 231.349 Z\" fill=\"#000000\" fill-rule=\"evenodd\" fill-opacity=\"1\" /><polyline clip-path=\"url(#clip760)\" style=\"stroke:#c271d2; stroke-linecap:butt; stroke-linejoin:round; stroke-width:4; stroke-opacity:1; fill:none\" points=\"\n",
       "  2016.88,300.469 2166.25,300.469 \n",
       "  \"/>\n",
       "<path clip-path=\"url(#clip760)\" d=\"M2212.86 302.101 L2212.86 317.749 L2208.6 317.749 L2208.6 302.239 Q2208.6 298.559 2207.17 296.73 Q2205.73 294.902 2202.86 294.902 Q2199.41 294.902 2197.42 297.101 Q2195.43 299.3 2195.43 303.096 L2195.43 317.749 L2191.15 317.749 L2191.15 281.73 L2195.43 281.73 L2195.43 295.851 Q2196.96 293.513 2199.02 292.355 Q2201.1 291.198 2203.81 291.198 Q2208.28 291.198 2210.57 293.976 Q2212.86 296.73 2212.86 302.101 Z\" fill=\"#000000\" fill-rule=\"evenodd\" fill-opacity=\"1\" /></svg>\n"
      ]
     },
     "execution_count": 8,
     "metadata": {},
     "output_type": "execute_result"
    }
   ],
   "source": [
    "nelem = 16\n",
    "x = LinRange(-1, 1, nelem+1)\n",
    "x_to_η(x) = (x .+ 1) * η_max / 2\n",
    "η = x_to_η(x)\n",
    "plot(η, [f.(x) f_η.(x) f_ηη.(x) h.(x)], \n",
    "     label=[\"f\" \"f'\" \"f''\" \"h\"], xlabel=\"η\", ylim=(0, 4))\n"
   ]
  },
  {
   "cell_type": "code",
   "execution_count": 9,
   "metadata": {},
   "outputs": [],
   "source": [
    "plot(η, [f_η.(x) h.(x)], \n",
    "     label=[\"velocity\" \"Temperature\"], xlabel=\"η\", ylim=(0, 1.2))\n",
    "savefig(\"balsius-solution.png\")"
   ]
  },
  {
   "cell_type": "code",
   "execution_count": 10,
   "metadata": {},
   "outputs": [
    {
     "data": {
      "text/plain": [
       "TemperatureFromE_lin (generic function with 1 method)"
      ]
     },
     "execution_count": 10,
     "metadata": {},
     "output_type": "execute_result"
    }
   ],
   "source": [
    "function TemperatureFromE(energy, velocity)\n",
    "     f(x) = energy(x) - velocity(x)^2\n",
    "     f\n",
    "end\n",
    "\n",
    "function TemperatureFromE_lin(x, η, u, T)\n",
    "     u_lin = LinearInterpolation(η, u.(x))\n",
    "     E_lin = LinearInterpolation(η, T.(x) + u.(x) .^ 2)\n",
    "     TemperatureFromE(E_lin, u_lin)      \n",
    " end"
   ]
  },
  {
   "cell_type": "code",
   "execution_count": 11,
   "metadata": {},
   "outputs": [],
   "source": [
    "u = f_η;\n",
    "T = h;   # T = T_∞ * h\n",
    "\n",
    "# primitive \n",
    "T_prim_interps = LinearInterpolation(η, T.(x));  \n",
    "\n",
    "# conservative\n",
    "T_cons_interps = TemperatureFromE_lin(x, η, u, T);"
   ]
  },
  {
   "cell_type": "code",
   "execution_count": 12,
   "metadata": {},
   "outputs": [],
   "source": [
    "xx = LinRange(-1, 1, 300)\n",
    "plot(x_to_η(xx), [T.(xx), T_prim_interps(x_to_η(xx)), T_cons_interps.(x_to_η(xx))], \n",
    "     label=[\"Chebyshev\" \"Primitive\" \"Conservative\"], \n",
    "     title=\"Temperature (p=1)\", xlabel=\"η\", ylabel=\"T\")\n",
    "scatter!(η, T.(x), label=\"FE nodes\", color=:black, markershape=:square)\n",
    "savefig(\"Temperature_p1.png\")"
   ]
  },
  {
   "cell_type": "code",
   "execution_count": 13,
   "metadata": {},
   "outputs": [],
   "source": [
    "# energy\n",
    "function EnergyFromT(temperature, velocity)\n",
    "    f(x) = temperature(x) + velocity(x)^2\n",
    "    f\n",
    "end\n",
    "\n",
    "function EnergyFromT_lin(x, η, u, T)\n",
    "    u_lin = LinearInterpolation(η, u.(x))\n",
    "    T_lin = LinearInterpolation(η, T.(x))\n",
    "    EnergyFromT(T_lin, u_lin)      \n",
    "end\n",
    "\n",
    "E_cons_interps = LinearInterpolation(η, T.(x) + u.(x) .^ 2);\n",
    "E_prim_interps = EnergyFromT_lin(x, η, u, T);"
   ]
  },
  {
   "cell_type": "code",
   "execution_count": 14,
   "metadata": {},
   "outputs": [],
   "source": [
    "plot(x_to_η(xx), [T.(xx) + u.(xx) .^ 2, E_prim_interps.(x_to_η(xx)), E_cons_interps(x_to_η(xx))], \n",
    "     label=[\"Chebyshev\" \"Primitive\" \"Conservative\"], \n",
    "     title=\"Total Energy (p=1)\", xlabel=\"η\", ylabel=\"E\")\n",
    "scatter!(η, T.(x) + u.(x) .^ 2, label=\"FE nodes\", color=:black, markershape=:square)\n",
    "savefig(\"Energy_p1.png\")"
   ]
  },
  {
   "cell_type": "code",
   "execution_count": 15,
   "metadata": {},
   "outputs": [],
   "source": [
    "using SparseArrays\n",
    "using FastGaussQuadrature"
   ]
  },
  {
   "cell_type": "code",
   "execution_count": 16,
   "metadata": {},
   "outputs": [
    {
     "data": {
      "text/plain": [
       "mesh (generic function with 1 method)"
      ]
     },
     "execution_count": 16,
     "metadata": {},
     "output_type": "execute_result"
    }
   ],
   "source": [
    "function mesh(P, nelem)\n",
    "    x = LinRange(-1, 1, nelem+1)\n",
    "    rows = Int[]\n",
    "    cols = Int[]\n",
    "    for i in 1:nelem\n",
    "        append!(rows, (i-1)*P+1:i*P)\n",
    "        append!(cols, (i-1)*(P-1)+1:i*(P-1)+1)\n",
    "    end\n",
    "    x, sparse(cols, rows, ones(nelem*P))'\n",
    "end"
   ]
  },
  {
   "cell_type": "code",
   "execution_count": 17,
   "metadata": {},
   "outputs": [
    {
     "data": {
      "text/plain": [
       "xnodal (generic function with 1 method)"
      ]
     },
     "execution_count": 17,
     "metadata": {},
     "output_type": "execute_result"
    }
   ],
   "source": [
    "function xnodal(x, P)\n",
    "    nelem = length(x) - 1\n",
    "    xn = Float64[]\n",
    "    xref, _ = gausslobatto(P)\n",
    "    for i in 1:nelem\n",
    "        xL, xR = x[i:i+1]\n",
    "        append!(xn, (xL+xR)/2 .+ (xR-xL)/2 * xref[1+(i>1):end])\n",
    "    end\n",
    "    xn\n",
    "end"
   ]
  },
  {
   "cell_type": "code",
   "execution_count": 18,
   "metadata": {},
   "outputs": [
    {
     "data": {
      "text/plain": [
       "vander_legendre_deriv (generic function with 2 methods)"
      ]
     },
     "execution_count": 18,
     "metadata": {},
     "output_type": "execute_result"
    }
   ],
   "source": [
    "function vander_legendre_deriv(x, k=nothing)\n",
    "    if isnothing(k)\n",
    "        k = length(x) # Square by default\n",
    "    end\n",
    "    m = length(x)\n",
    "    Q = ones(m, k)\n",
    "    dQ = zeros(m, k)\n",
    "    Q[:, 2] = x\n",
    "    dQ[:, 2] .= 1\n",
    "    for n in 1:k-2\n",
    "        Q[:, n+2] = ((2*n + 1) * x .* Q[:, n+1] - n * Q[:, n]) / (n + 1)\n",
    "        dQ[:, n+2] = (2*n + 1) * Q[:,n+1] + dQ[:,n]\n",
    "    end\n",
    "    Q, dQ\n",
    "end"
   ]
  },
  {
   "cell_type": "code",
   "execution_count": 19,
   "metadata": {},
   "outputs": [
    {
     "data": {
      "text/plain": [
       "basis (generic function with 1 method)"
      ]
     },
     "execution_count": 19,
     "metadata": {},
     "output_type": "execute_result"
    }
   ],
   "source": [
    "function basis(P, q)\n",
    "    xn, _ = gausslobatto(P)\n",
    "    Pk, _ = vander_legendre_deriv(xn)\n",
    "    Bp, _ = vander_legendre_deriv(q, P)\n",
    "    B = Bp / Pk\n",
    "    B\n",
    "end"
   ]
  },
  {
   "cell_type": "code",
   "execution_count": 20,
   "metadata": {},
   "outputs": [],
   "source": [
    "struct Interp\n",
    "    P::Int\n",
    "    nelem::Int\n",
    "    x::Vector\n",
    "    xn::Vector\n",
    "    Et::Adjoint{Float64, SparseMatrixCSC{Float64, Int64}}\n",
    "    B::Matrix\n",
    "    function Interp(P, nelem)\n",
    "        x, Et = mesh(P, nelem)\n",
    "        xn = xnodal(x, P)\n",
    "        B = basis(P, x)\n",
    "        new(P, nelem, x, xn, Et,B)\n",
    "    end\n",
    "end"
   ]
  },
  {
   "cell_type": "code",
   "execution_count": 21,
   "metadata": {},
   "outputs": [
    {
     "data": {
      "text/plain": [
       "element (generic function with 1 method)"
      ]
     },
     "execution_count": 21,
     "metadata": {},
     "output_type": "execute_result"
    }
   ],
   "source": [
    "function element(intp, e)\n",
    "    xL, xR = intp.x[e:e+1]\n",
    "    E = intp.Et'[:, (e-1)*intp.P+1:e*intp.P]'\n",
    "    dXdx = ones(intp.P) * 2 / (xR - xL)\n",
    "    E, dXdx\n",
    "end"
   ]
  },
  {
   "cell_type": "code",
   "execution_count": 22,
   "metadata": {},
   "outputs": [],
   "source": [
    "P, nelem = 3, 8\n",
    "x, E = mesh(P, nelem);\n",
    "xn = xnodal(x, P);\n",
    "intp = Interp(P, nelem);"
   ]
  },
  {
   "cell_type": "code",
   "execution_count": 23,
   "metadata": {},
   "outputs": [],
   "source": [
    "function interpolate(intp, u)\n",
    "    function f(x)\n",
    "        # Find the element that contains point x\n",
    "        right = max(2, searchsortedfirst(intp.x, x))\n",
    "        left = right - 1\n",
    "        E, _ = element(intp, left)\n",
    "        x0 = .5*(intp.x[left] + intp.x[right])\n",
    "        h = intp.x[right] - intp.x[left]\n",
    "        X = (x - x0) * 2 / h    # point x in reference element\n",
    "        BX = basis(intp.P, [X]) # basis evaluation to X\n",
    "        (BX * E * u)[1]\n",
    "    end\n",
    "    f\n",
    "end\n",
    "\n",
    "T_fe = interpolate(intp, T.(intp.xn))\n",
    "u_fe = interpolate(intp, u.(intp.xn))\n",
    "E_fe = interpolate(intp, T.(intp.xn) + u.(intp.xn) .^ 2); # interpolate nodally exact energy"
   ]
  },
  {
   "cell_type": "code",
   "execution_count": 24,
   "metadata": {},
   "outputs": [],
   "source": [
    "xx = LinRange(-1, 1, 300)\n",
    "plot(x_to_η.(xx), [T.(xx) T_fe.(xx) E_fe.(xx)-u_fe.(xx).^2], \n",
    "     label=[\"Chebyshev\" \"Primitive\" \"Conservative\"], \n",
    "     title=\"Temperature (p=2)\", xlabel=\"η\", ylabel=\"T\")\n",
    "odd  = 1:2:size(intp.xn)[1]\n",
    "even = 2:2:size(intp.xn)[1]\n",
    "scatter!(x_to_η.(intp.xn)[odd], T.(intp.xn)[odd], \n",
    "         label=\"FE end-nodes\", color=:black, markershape=:square)\n",
    "scatter!(x_to_η.(intp.xn)[even], T.(intp.xn)[even], \n",
    "         label=\"FE middle-nodes\", color=:black)\n",
    "savefig(\"Temperature_p2.png\")"
   ]
  },
  {
   "cell_type": "code",
   "execution_count": 25,
   "metadata": {},
   "outputs": [],
   "source": [
    "#energy\n",
    "plot(x_to_η.(xx), [T.(xx) + u.(xx) .^2, T_fe.(xx) + u_fe.(xx).^2, E_fe.(xx)], \n",
    "      label=[\"Chebyshev\" \"Primitive\" \"Conservative\"], \n",
    "      title=\"Total Energy (p=2)\", xlabel=\"η\", ylabel=\"E\")\n",
    "odd  = 1:2:size(intp.xn)[1]\n",
    "even = 2:2:size(intp.xn)[1]\n",
    "scatter!(x_to_η.(intp.xn)[odd], T.(intp.xn)[odd] + u.(intp.xn)[odd].^2, \n",
    "         label=\"FE end-nodes\", color=:black, markershape=:square)\n",
    "scatter!(x_to_η.(intp.xn)[even], T.(intp.xn)[even] + u.(intp.xn)[even].^2, \n",
    "         label=\"FE middle-nodes\", color=:black)\n",
    "savefig(\"Energy_p2.png\")"
   ]
  },
  {
   "cell_type": "code",
   "execution_count": null,
   "metadata": {},
   "outputs": [],
   "source": []
  },
  {
   "cell_type": "code",
   "execution_count": null,
   "metadata": {},
   "outputs": [],
   "source": []
  }
 ],
 "metadata": {
  "kernelspec": {
   "display_name": "Julia 1.6.2",
   "language": "julia",
   "name": "julia-1.6"
  },
  "language_info": {
   "file_extension": ".jl",
   "mimetype": "application/julia",
   "name": "julia",
   "version": "1.6.2"
  },
  "vscode": {
   "interpreter": {
    "hash": "916dbcbb3f70747c44a77c7bcd40155683ae19c65e1c03b4aa3499c5328201f1"
   }
  }
 },
 "nbformat": 4,
 "nbformat_minor": 2
}
