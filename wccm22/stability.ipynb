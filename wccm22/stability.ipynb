{
 "cells": [
  {
   "cell_type": "code",
   "execution_count": 10,
   "metadata": {},
   "outputs": [],
   "source": [
    "#-----------------------------------------------------------------------\n",
    "# Solution to the compressible Blasius equation (boundary value problem)\n",
    "#\n",
    "# 2 (ρ μ f'')' + f f'' = 0\n",
    "# (ρ μ h')' + Pr f h' + Pr (γ-1) Ma^2 ρ μ (f'')^2 = 0\n",
    "#\n",
    "# where\n",
    "#    f: Similarity form for the stream function = ψ/√(2 ν_∞ U x)\n",
    "#    h: Specific enthalpy at the wall\n",
    "#\n",
    "# with isothermal bc:\n",
    "#     f(0)  = f'(0) = 0 \n",
    "#     f'(∞) = 1\n",
    "#     h(∞)  = 1\n",
    "#     h     = θ(0)\n",
    "#\n",
    "# following Howarth-Dorodnitsyn transformation \n",
    "#     θ     = T / T_∞\n",
    "#-----------------------------------------------------------------------"
   ]
  },
  {
   "cell_type": "code",
   "execution_count": 11,
   "metadata": {},
   "outputs": [],
   "source": [
    "using Plots\n",
    "using Polynomials\n",
    "using FastGaussQuadrature\n",
    "using NLsolve\n",
    "using Interpolations\n",
    "using LinearAlgebra"
   ]
  },
  {
   "cell_type": "code",
   "execution_count": 12,
   "metadata": {},
   "outputs": [],
   "source": [
    "default(linewidth=3)\n",
    "γ      = 1.4;  # specific heat ratio\n",
    "Pr     = 0.7;  # Prandtl number\n",
    "Ma     = 2.0;  # Mach number\n",
    "h_wall = 1;\n",
    "h_∞    = 1;\n",
    "U_∞    = 1.;"
   ]
  },
  {
   "cell_type": "code",
   "execution_count": 13,
   "metadata": {},
   "outputs": [],
   "source": [
    "η_max = 5 # L in PETSc\n",
    "N = 10\n",
    "x_resid = gausslegendre(N-3)[1]\n",
    "dx_dη = 2 / η_max\n",
    "UnpackCheb(X) = ChebyshevT(X[1:N]), ChebyshevT(X[N+1:end]);"
   ]
  },
  {
   "cell_type": "code",
   "execution_count": 14,
   "metadata": {},
   "outputs": [],
   "source": [
    "X = zeros(2N-1);"
   ]
  },
  {
   "cell_type": "code",
   "execution_count": 15,
   "metadata": {},
   "outputs": [
    {
     "data": {
      "text/plain": [
       "CompressibleBlasiusResidual (generic function with 1 method)"
      ]
     },
     "execution_count": 15,
     "metadata": {},
     "output_type": "execute_result"
    }
   ],
   "source": [
    "function CompressibleBlasiusResidual(X)\n",
    "    f, h = UnpackCheb(X)\n",
    "    f_η = derivative(f, 1) * dx_dη\n",
    "    f_ηη = derivative(f_η, 1) * dx_dη\n",
    "    f_ηηη = derivative(f_ηη, 1) * dx_dη\n",
    "    h_η = derivative(h, 1) * dx_dη\n",
    "    h_ηη = derivative(h_η, 1) * dx_dη\n",
    "    blasius = 2 * f_ηηη + f_ηη * f\n",
    "    blasius_h = h_ηη + Pr * f * h_η + Pr * (γ - 1) * Ma * Ma * f_ηη * f_ηη # enthalpy equation\n",
    "    R = zeros(2N-1)\n",
    "    R[1] = f(-1)\n",
    "    R[2] = f_η(-1)\n",
    "    R[3] = f_η(1.) - 1\n",
    "    R[4:N] = blasius.(x_resid)\n",
    "    R[N+1] = h(-1.) - h_wall\n",
    "    R[N+2] = h(1) - h_∞\n",
    "    R[N+3:end] = blasius_h.(x_resid)\n",
    "    R\n",
    "end"
   ]
  },
  {
   "cell_type": "code",
   "execution_count": 17,
   "metadata": {},
   "outputs": [],
   "source": [
    "solution = nlsolve(CompressibleBlasiusResidual, X)\n",
    "f, h = UnpackCheb(solution.zero)\n",
    "f_η  = derivative(f, 1) * dx_dη\n",
    "f_ηη = derivative(f_η, 1) * dx_dη;"
   ]
  },
  {
   "cell_type": "code",
   "execution_count": 18,
   "metadata": {},
   "outputs": [
    {
     "data": {
      "image/svg+xml": "<?xml version=\"1.0\" encoding=\"utf-8\"?>\n<svg xmlns=\"http://www.w3.org/2000/svg\" xmlns:xlink=\"http://www.w3.org/1999/xlink\" width=\"600\" height=\"400\" viewBox=\"0 0 2400 1600\">\n<defs>\n  <clipPath id=\"clip970\">\n    <rect x=\"0\" y=\"0\" width=\"2400\" height=\"1600\"/>\n  </clipPath>\n</defs>\n<path clip-path=\"url(#clip970)\" d=\"\nM0 1600 L2400 1600 L2400 0 L0 0  Z\n  \" fill=\"#ffffff\" fill-rule=\"evenodd\" fill-opacity=\"1\"/>\n<defs>\n  <clipPath id=\"clip971\">\n    <rect x=\"480\" y=\"0\" width=\"1681\" height=\"1600\"/>\n  </clipPath>\n</defs>\n<path clip-path=\"url(#clip970)\" d=\"\nM112.177 1423.18 L2352.76 1423.18 L2352.76 47.2441 L112.177 47.2441  Z\n  \" fill=\"#ffffff\" fill-rule=\"evenodd\" fill-opacity=\"1\"/>\n<defs>\n  <clipPath id=\"clip972\">\n    <rect x=\"112\" y=\"47\" width=\"2242\" height=\"1377\"/>\n  </clipPath>\n</defs>\n<polyline clip-path=\"url(#clip972)\" style=\"stroke:#000000; stroke-linecap:butt; stroke-linejoin:round; stroke-width:2; stroke-opacity:0.1; fill:none\" points=\"\n  175.59,1423.18 175.59,47.2441 \n  \"/>\n<polyline clip-path=\"url(#clip972)\" style=\"stroke:#000000; stroke-linecap:butt; stroke-linejoin:round; stroke-width:2; stroke-opacity:0.1; fill:none\" points=\"\n  598.34,1423.18 598.34,47.2441 \n  \"/>\n<polyline clip-path=\"url(#clip972)\" style=\"stroke:#000000; stroke-linecap:butt; stroke-linejoin:round; stroke-width:2; stroke-opacity:0.1; fill:none\" points=\"\n  1021.09,1423.18 1021.09,47.2441 \n  \"/>\n<polyline clip-path=\"url(#clip972)\" style=\"stroke:#000000; stroke-linecap:butt; stroke-linejoin:round; stroke-width:2; stroke-opacity:0.1; fill:none\" points=\"\n  1443.84,1423.18 1443.84,47.2441 \n  \"/>\n<polyline clip-path=\"url(#clip972)\" style=\"stroke:#000000; stroke-linecap:butt; stroke-linejoin:round; stroke-width:2; stroke-opacity:0.1; fill:none\" points=\"\n  1866.59,1423.18 1866.59,47.2441 \n  \"/>\n<polyline clip-path=\"url(#clip972)\" style=\"stroke:#000000; stroke-linecap:butt; stroke-linejoin:round; stroke-width:2; stroke-opacity:0.1; fill:none\" points=\"\n  2289.34,1423.18 2289.34,47.2441 \n  \"/>\n<polyline clip-path=\"url(#clip970)\" style=\"stroke:#000000; stroke-linecap:butt; stroke-linejoin:round; stroke-width:4; stroke-opacity:1; fill:none\" points=\"\n  112.177,1423.18 2352.76,1423.18 \n  \"/>\n<polyline clip-path=\"url(#clip970)\" style=\"stroke:#000000; stroke-linecap:butt; stroke-linejoin:round; stroke-width:4; stroke-opacity:1; fill:none\" points=\"\n  175.59,1423.18 175.59,1404.28 \n  \"/>\n<polyline clip-path=\"url(#clip970)\" style=\"stroke:#000000; stroke-linecap:butt; stroke-linejoin:round; stroke-width:4; stroke-opacity:1; fill:none\" points=\"\n  598.34,1423.18 598.34,1404.28 \n  \"/>\n<polyline clip-path=\"url(#clip970)\" style=\"stroke:#000000; stroke-linecap:butt; stroke-linejoin:round; stroke-width:4; stroke-opacity:1; fill:none\" points=\"\n  1021.09,1423.18 1021.09,1404.28 \n  \"/>\n<polyline clip-path=\"url(#clip970)\" style=\"stroke:#000000; stroke-linecap:butt; stroke-linejoin:round; stroke-width:4; stroke-opacity:1; fill:none\" points=\"\n  1443.84,1423.18 1443.84,1404.28 \n  \"/>\n<polyline clip-path=\"url(#clip970)\" style=\"stroke:#000000; stroke-linecap:butt; stroke-linejoin:round; stroke-width:4; stroke-opacity:1; fill:none\" points=\"\n  1866.59,1423.18 1866.59,1404.28 \n  \"/>\n<polyline clip-path=\"url(#clip970)\" style=\"stroke:#000000; stroke-linecap:butt; stroke-linejoin:round; stroke-width:4; stroke-opacity:1; fill:none\" points=\"\n  2289.34,1423.18 2289.34,1404.28 \n  \"/>\n<path clip-path=\"url(#clip970)\" d=\"M175.59 1452.37 Q171.979 1452.37 170.15 1455.94 Q168.344 1459.48 168.344 1466.61 Q168.344 1473.71 170.15 1477.28 Q171.979 1480.82 175.59 1480.82 Q179.224 1480.82 181.03 1477.28 Q182.858 1473.71 182.858 1466.61 Q182.858 1459.48 181.03 1455.94 Q179.224 1452.37 175.59 1452.37 M175.59 1448.67 Q181.4 1448.67 184.455 1453.27 Q187.534 1457.86 187.534 1466.61 Q187.534 1475.33 184.455 1479.94 Q181.4 1484.52 175.59 1484.52 Q169.78 1484.52 166.701 1479.94 Q163.645 1475.33 163.645 1466.61 Q163.645 1457.86 166.701 1453.27 Q169.78 1448.67 175.59 1448.67 Z\" fill=\"#000000\" fill-rule=\"evenodd\" fill-opacity=\"1\" /><path clip-path=\"url(#clip970)\" d=\"M588.722 1479.92 L596.361 1479.92 L596.361 1453.55 L588.051 1455.22 L588.051 1450.96 L596.315 1449.29 L600.991 1449.29 L600.991 1479.92 L608.63 1479.92 L608.63 1483.85 L588.722 1483.85 L588.722 1479.92 Z\" fill=\"#000000\" fill-rule=\"evenodd\" fill-opacity=\"1\" /><path clip-path=\"url(#clip970)\" d=\"M1015.74 1479.92 L1032.06 1479.92 L1032.06 1483.85 L1010.12 1483.85 L1010.12 1479.92 Q1012.78 1477.16 1017.36 1472.53 Q1021.97 1467.88 1023.15 1466.54 Q1025.4 1464.01 1026.28 1462.28 Q1027.18 1460.52 1027.18 1458.83 Q1027.18 1456.07 1025.23 1454.34 Q1023.31 1452.6 1020.21 1452.6 Q1018.01 1452.6 1015.56 1453.37 Q1013.13 1454.13 1010.35 1455.68 L1010.35 1450.96 Q1013.17 1449.82 1015.63 1449.25 Q1018.08 1448.67 1020.12 1448.67 Q1025.49 1448.67 1028.68 1451.35 Q1031.88 1454.04 1031.88 1458.53 Q1031.88 1460.66 1031.07 1462.58 Q1030.28 1464.48 1028.17 1467.07 Q1027.6 1467.74 1024.49 1470.96 Q1021.39 1474.15 1015.74 1479.92 Z\" fill=\"#000000\" fill-rule=\"evenodd\" fill-opacity=\"1\" /><path clip-path=\"url(#clip970)\" d=\"M1448.09 1465.22 Q1451.45 1465.94 1453.32 1468.2 Q1455.22 1470.47 1455.22 1473.81 Q1455.22 1478.92 1451.7 1481.72 Q1448.18 1484.52 1441.7 1484.52 Q1439.52 1484.52 1437.21 1484.08 Q1434.92 1483.67 1432.46 1482.81 L1432.46 1478.3 Q1434.41 1479.43 1436.72 1480.01 Q1439.04 1480.59 1441.56 1480.59 Q1445.96 1480.59 1448.25 1478.85 Q1450.57 1477.12 1450.57 1473.81 Q1450.57 1470.75 1448.41 1469.04 Q1446.28 1467.3 1442.46 1467.3 L1438.44 1467.3 L1438.44 1463.46 L1442.65 1463.46 Q1446.1 1463.46 1447.93 1462.09 Q1449.76 1460.7 1449.76 1458.11 Q1449.76 1455.45 1447.86 1454.04 Q1445.98 1452.6 1442.46 1452.6 Q1440.54 1452.6 1438.34 1453.02 Q1436.15 1453.44 1433.51 1454.31 L1433.51 1450.15 Q1436.17 1449.41 1438.48 1449.04 Q1440.82 1448.67 1442.88 1448.67 Q1448.21 1448.67 1451.31 1451.1 Q1454.41 1453.5 1454.41 1457.63 Q1454.41 1460.5 1452.77 1462.49 Q1451.12 1464.45 1448.09 1465.22 Z\" fill=\"#000000\" fill-rule=\"evenodd\" fill-opacity=\"1\" /><path clip-path=\"url(#clip970)\" d=\"M1869.6 1453.37 L1857.8 1471.81 L1869.6 1471.81 L1869.6 1453.37 M1868.37 1449.29 L1874.25 1449.29 L1874.25 1471.81 L1879.19 1471.81 L1879.19 1475.7 L1874.25 1475.7 L1874.25 1483.85 L1869.6 1483.85 L1869.6 1475.7 L1854 1475.7 L1854 1471.19 L1868.37 1449.29 Z\" fill=\"#000000\" fill-rule=\"evenodd\" fill-opacity=\"1\" /><path clip-path=\"url(#clip970)\" d=\"M2279.62 1449.29 L2297.98 1449.29 L2297.98 1453.23 L2283.9 1453.23 L2283.9 1461.7 Q2284.92 1461.35 2285.94 1461.19 Q2286.96 1461 2287.98 1461 Q2293.76 1461 2297.14 1464.18 Q2300.52 1467.35 2300.52 1472.76 Q2300.52 1478.34 2297.05 1481.44 Q2293.58 1484.52 2287.26 1484.52 Q2285.08 1484.52 2282.82 1484.15 Q2280.57 1483.78 2278.16 1483.04 L2278.16 1478.34 Q2280.25 1479.48 2282.47 1480.03 Q2284.69 1480.59 2287.17 1480.59 Q2291.17 1480.59 2293.51 1478.48 Q2295.85 1476.38 2295.85 1472.76 Q2295.85 1469.15 2293.51 1467.05 Q2291.17 1464.94 2287.17 1464.94 Q2285.29 1464.94 2283.42 1465.36 Q2281.57 1465.77 2279.62 1466.65 L2279.62 1449.29 Z\" fill=\"#000000\" fill-rule=\"evenodd\" fill-opacity=\"1\" /><path clip-path=\"url(#clip970)\" d=\"M1247.39 1546.53 L1247.39 1581.6 L1241.54 1581.6 L1241.54 1546.72 Q1241.54 1541.66 1239.56 1539.14 Q1237.59 1536.63 1233.64 1536.63 Q1228.9 1536.63 1226.16 1539.65 Q1223.43 1542.68 1223.43 1547.9 L1223.43 1568.04 L1217.54 1568.04 L1217.54 1532.4 L1223.43 1532.4 L1223.43 1537.93 Q1225.53 1534.72 1228.36 1533.13 Q1231.23 1531.54 1234.95 1531.54 Q1241.09 1531.54 1244.24 1535.32 Q1247.39 1539.14 1247.39 1546.53 Z\" fill=\"#000000\" fill-rule=\"evenodd\" fill-opacity=\"1\" /><polyline clip-path=\"url(#clip972)\" style=\"stroke:#000000; stroke-linecap:butt; stroke-linejoin:round; stroke-width:2; stroke-opacity:0.1; fill:none\" points=\"\n  112.177,1423.18 2352.76,1423.18 \n  \"/>\n<polyline clip-path=\"url(#clip972)\" style=\"stroke:#000000; stroke-linecap:butt; stroke-linejoin:round; stroke-width:2; stroke-opacity:0.1; fill:none\" points=\"\n  112.177,1079.2 2352.76,1079.2 \n  \"/>\n<polyline clip-path=\"url(#clip972)\" style=\"stroke:#000000; stroke-linecap:butt; stroke-linejoin:round; stroke-width:2; stroke-opacity:0.1; fill:none\" points=\"\n  112.177,735.212 2352.76,735.212 \n  \"/>\n<polyline clip-path=\"url(#clip972)\" style=\"stroke:#000000; stroke-linecap:butt; stroke-linejoin:round; stroke-width:2; stroke-opacity:0.1; fill:none\" points=\"\n  112.177,391.228 2352.76,391.228 \n  \"/>\n<polyline clip-path=\"url(#clip972)\" style=\"stroke:#000000; stroke-linecap:butt; stroke-linejoin:round; stroke-width:2; stroke-opacity:0.1; fill:none\" points=\"\n  112.177,47.2441 2352.76,47.2441 \n  \"/>\n<polyline clip-path=\"url(#clip970)\" style=\"stroke:#000000; stroke-linecap:butt; stroke-linejoin:round; stroke-width:4; stroke-opacity:1; fill:none\" points=\"\n  112.177,1423.18 112.177,47.2441 \n  \"/>\n<polyline clip-path=\"url(#clip970)\" style=\"stroke:#000000; stroke-linecap:butt; stroke-linejoin:round; stroke-width:4; stroke-opacity:1; fill:none\" points=\"\n  112.177,1423.18 131.075,1423.18 \n  \"/>\n<polyline clip-path=\"url(#clip970)\" style=\"stroke:#000000; stroke-linecap:butt; stroke-linejoin:round; stroke-width:4; stroke-opacity:1; fill:none\" points=\"\n  112.177,1079.2 131.075,1079.2 \n  \"/>\n<polyline clip-path=\"url(#clip970)\" style=\"stroke:#000000; stroke-linecap:butt; stroke-linejoin:round; stroke-width:4; stroke-opacity:1; fill:none\" points=\"\n  112.177,735.212 131.075,735.212 \n  \"/>\n<polyline clip-path=\"url(#clip970)\" style=\"stroke:#000000; stroke-linecap:butt; stroke-linejoin:round; stroke-width:4; stroke-opacity:1; fill:none\" points=\"\n  112.177,391.228 131.075,391.228 \n  \"/>\n<polyline clip-path=\"url(#clip970)\" style=\"stroke:#000000; stroke-linecap:butt; stroke-linejoin:round; stroke-width:4; stroke-opacity:1; fill:none\" points=\"\n  112.177,47.2441 131.075,47.2441 \n  \"/>\n<path clip-path=\"url(#clip970)\" d=\"M64.2328 1408.98 Q60.6217 1408.98 58.793 1412.54 Q56.9875 1416.08 56.9875 1423.21 Q56.9875 1430.32 58.793 1433.89 Q60.6217 1437.43 64.2328 1437.43 Q67.867 1437.43 69.6726 1433.89 Q71.5013 1430.32 71.5013 1423.21 Q71.5013 1416.08 69.6726 1412.54 Q67.867 1408.98 64.2328 1408.98 M64.2328 1405.27 Q70.0429 1405.27 73.0985 1409.88 Q76.1772 1414.46 76.1772 1423.21 Q76.1772 1431.94 73.0985 1436.55 Q70.0429 1441.13 64.2328 1441.13 Q58.4226 1441.13 55.344 1436.55 Q52.2884 1431.94 52.2884 1423.21 Q52.2884 1414.46 55.344 1409.88 Q58.4226 1405.27 64.2328 1405.27 Z\" fill=\"#000000\" fill-rule=\"evenodd\" fill-opacity=\"1\" /><path clip-path=\"url(#clip970)\" d=\"M56.2699 1092.54 L63.9087 1092.54 L63.9087 1066.18 L55.5986 1067.84 L55.5986 1063.58 L63.8624 1061.92 L68.5383 1061.92 L68.5383 1092.54 L76.1772 1092.54 L76.1772 1096.48 L56.2699 1096.48 L56.2699 1092.54 Z\" fill=\"#000000\" fill-rule=\"evenodd\" fill-opacity=\"1\" /><path clip-path=\"url(#clip970)\" d=\"M59.8578 748.557 L76.1772 748.557 L76.1772 752.492 L54.2328 752.492 L54.2328 748.557 Q56.8949 745.802 61.4782 741.173 Q66.0846 736.52 67.2652 735.177 Q69.5105 732.654 70.3902 730.918 Q71.2929 729.159 71.2929 727.469 Q71.2929 724.714 69.3485 722.978 Q67.4272 721.242 64.3254 721.242 Q62.1263 721.242 59.6726 722.006 Q57.2421 722.77 54.4643 724.321 L54.4643 719.599 Q57.2884 718.464 59.7421 717.886 Q62.1958 717.307 64.2328 717.307 Q69.6031 717.307 72.7976 719.992 Q75.992 722.677 75.992 727.168 Q75.992 729.298 75.1818 731.219 Q74.3948 733.117 72.2883 735.71 Q71.7096 736.381 68.6078 739.599 Q65.5059 742.793 59.8578 748.557 Z\" fill=\"#000000\" fill-rule=\"evenodd\" fill-opacity=\"1\" /><path clip-path=\"url(#clip970)\" d=\"M69.0476 389.874 Q72.404 390.591 74.279 392.86 Q76.1772 395.128 76.1772 398.462 Q76.1772 403.578 72.6587 406.378 Q69.1402 409.179 62.6587 409.179 Q60.4828 409.179 58.168 408.74 Q55.8764 408.323 53.4227 407.466 L53.4227 402.953 Q55.3671 404.087 57.6819 404.665 Q59.9967 405.244 62.5198 405.244 Q66.918 405.244 69.2096 403.508 Q71.5244 401.772 71.5244 398.462 Q71.5244 395.406 69.3717 393.693 Q67.242 391.957 63.4226 391.957 L59.3949 391.957 L59.3949 388.115 L63.6078 388.115 Q67.0569 388.115 68.8855 386.749 Q70.7142 385.36 70.7142 382.767 Q70.7142 380.105 68.8161 378.693 Q66.9411 377.258 63.4226 377.258 Q61.5013 377.258 59.3023 377.675 Q57.1032 378.092 54.4643 378.971 L54.4643 374.805 Q57.1264 374.064 59.4412 373.693 Q61.7791 373.323 63.8393 373.323 Q69.1633 373.323 72.2652 375.754 Q75.367 378.161 75.367 382.281 Q75.367 385.152 73.7235 387.142 Q72.08 389.11 69.0476 389.874 Z\" fill=\"#000000\" fill-rule=\"evenodd\" fill-opacity=\"1\" /><path clip-path=\"url(#clip970)\" d=\"M66.5939 34.0381 L54.7884 52.4871 L66.5939 52.4871 L66.5939 34.0381 M65.367 29.9641 L71.2466 29.9641 L71.2466 52.4871 L76.1772 52.4871 L76.1772 56.376 L71.2466 56.376 L71.2466 64.5241 L66.5939 64.5241 L66.5939 56.376 L50.9921 56.376 L50.9921 51.8621 L65.367 29.9641 Z\" fill=\"#000000\" fill-rule=\"evenodd\" fill-opacity=\"1\" /><polyline clip-path=\"url(#clip972)\" style=\"stroke:#009af9; stroke-linecap:butt; stroke-linejoin:round; stroke-width:12; stroke-opacity:1; fill:none\" points=\"\n  175.59,1423.18 307.699,1417.53 439.809,1400.61 571.919,1372.48 704.028,1333.34 836.138,1283.51 968.247,1223.55 1100.36,1154.19 1232.47,1076.4 1364.58,991.257 \n  1496.69,899.955 1628.8,803.682 1760.9,703.567 1893.01,600.61 2025.12,495.648 2157.23,389.334 2289.34,282.15 \n  \"/>\n<polyline clip-path=\"url(#clip972)\" style=\"stroke:#e26f46; stroke-linecap:butt; stroke-linejoin:round; stroke-width:12; stroke-opacity:1; fill:none\" points=\"\n  175.59,1423.18 307.699,1387.05 439.809,1351.04 571.919,1315.41 704.028,1280.59 836.138,1247.17 968.247,1215.81 1100.36,1187.19 1232.47,1161.87 1364.58,1140.23 \n  1496.69,1122.43 1628.8,1108.39 1760.9,1097.77 1893.01,1090.11 2025.12,1084.84 2157.23,1081.37 2289.34,1079.2 \n  \"/>\n<polyline clip-path=\"url(#clip972)\" style=\"stroke:#3da44d; stroke-linecap:butt; stroke-linejoin:round; stroke-width:12; stroke-opacity:1; fill:none\" points=\"\n  175.59,1307.55 307.699,1307.65 439.809,1308.38 571.919,1310.2 704.028,1313.66 836.138,1319.17 968.247,1326.87 1100.36,1336.6 1232.47,1347.89 1364.58,1360.07 \n  1496.69,1372.34 1628.8,1383.94 1760.9,1394.23 1893.01,1402.8 2025.12,1409.48 2157.23,1414.41 2289.34,1417.82 \n  \"/>\n<polyline clip-path=\"url(#clip972)\" style=\"stroke:#c271d2; stroke-linecap:butt; stroke-linejoin:round; stroke-width:12; stroke-opacity:1; fill:none\" points=\"\n  175.59,1079.2 307.699,1062.03 439.809,1049.12 571.919,1040.54 704.028,1036.25 836.138,1035.91 968.247,1038.86 1100.36,1044.14 1232.47,1050.73 1364.58,1057.61 \n  1496.69,1063.97 1628.8,1069.26 1760.9,1073.24 1893.01,1075.96 2025.12,1077.65 2157.23,1078.65 2289.34,1079.2 \n  \"/>\n<path clip-path=\"url(#clip970)\" d=\"\nM1991.99 352.309 L2278.07 352.309 L2278.07 93.1086 L1991.99 93.1086  Z\n  \" fill=\"#ffffff\" fill-rule=\"evenodd\" fill-opacity=\"1\"/>\n<polyline clip-path=\"url(#clip970)\" style=\"stroke:#000000; stroke-linecap:butt; stroke-linejoin:round; stroke-width:4; stroke-opacity:1; fill:none\" points=\"\n  1991.99,352.309 2278.07,352.309 2278.07,93.1086 1991.99,93.1086 1991.99,352.309 \n  \"/>\n<polyline clip-path=\"url(#clip970)\" style=\"stroke:#009af9; stroke-linecap:butt; stroke-linejoin:round; stroke-width:4; stroke-opacity:1; fill:none\" points=\"\n  2016.88,144.949 2166.25,144.949 \n  \"/>\n<path clip-path=\"url(#clip970)\" d=\"M2207.65 126.21 L2207.65 129.752 L2203.58 129.752 Q2201.29 129.752 2200.39 130.678 Q2199.51 131.604 2199.51 134.011 L2199.51 136.303 L2206.52 136.303 L2206.52 139.613 L2199.51 139.613 L2199.51 162.229 L2195.22 162.229 L2195.22 139.613 L2191.15 139.613 L2191.15 136.303 L2195.22 136.303 L2195.22 134.497 Q2195.22 130.169 2197.24 128.201 Q2199.25 126.21 2203.63 126.21 L2207.65 126.21 Z\" fill=\"#000000\" fill-rule=\"evenodd\" fill-opacity=\"1\" /><polyline clip-path=\"url(#clip970)\" style=\"stroke:#e26f46; stroke-linecap:butt; stroke-linejoin:round; stroke-width:4; stroke-opacity:1; fill:none\" points=\"\n  2016.88,196.789 2166.25,196.789 \n  \"/>\n<path clip-path=\"url(#clip970)\" d=\"M2207.65 178.05 L2207.65 181.592 L2203.58 181.592 Q2201.29 181.592 2200.39 182.518 Q2199.51 183.444 2199.51 185.851 L2199.51 188.143 L2206.52 188.143 L2206.52 191.453 L2199.51 191.453 L2199.51 214.069 L2195.22 214.069 L2195.22 191.453 L2191.15 191.453 L2191.15 188.143 L2195.22 188.143 L2195.22 186.337 Q2195.22 182.009 2197.24 180.041 Q2199.25 178.05 2203.63 178.05 L2207.65 178.05 Z\" fill=\"#000000\" fill-rule=\"evenodd\" fill-opacity=\"1\" /><path clip-path=\"url(#clip970)\" d=\"M2215.25 179.509 L2215.25 192.356 L2211.31 192.356 L2211.31 179.509 L2215.25 179.509 Z\" fill=\"#000000\" fill-rule=\"evenodd\" fill-opacity=\"1\" /><polyline clip-path=\"url(#clip970)\" style=\"stroke:#3da44d; stroke-linecap:butt; stroke-linejoin:round; stroke-width:4; stroke-opacity:1; fill:none\" points=\"\n  2016.88,248.629 2166.25,248.629 \n  \"/>\n<path clip-path=\"url(#clip970)\" d=\"M2207.65 229.89 L2207.65 233.432 L2203.58 233.432 Q2201.29 233.432 2200.39 234.358 Q2199.51 235.284 2199.51 237.691 L2199.51 239.983 L2206.52 239.983 L2206.52 243.293 L2199.51 243.293 L2199.51 265.909 L2195.22 265.909 L2195.22 243.293 L2191.15 243.293 L2191.15 239.983 L2195.22 239.983 L2195.22 238.177 Q2195.22 233.849 2197.24 231.881 Q2199.25 229.89 2203.63 229.89 L2207.65 229.89 Z\" fill=\"#000000\" fill-rule=\"evenodd\" fill-opacity=\"1\" /><path clip-path=\"url(#clip970)\" d=\"M2215.25 231.349 L2215.25 244.196 L2211.31 244.196 L2211.31 231.349 L2215.25 231.349 Z\" fill=\"#000000\" fill-rule=\"evenodd\" fill-opacity=\"1\" /><path clip-path=\"url(#clip970)\" d=\"M2228.28 231.349 L2228.28 244.196 L2224.34 244.196 L2224.34 231.349 L2228.28 231.349 Z\" fill=\"#000000\" fill-rule=\"evenodd\" fill-opacity=\"1\" /><polyline clip-path=\"url(#clip970)\" style=\"stroke:#c271d2; stroke-linecap:butt; stroke-linejoin:round; stroke-width:4; stroke-opacity:1; fill:none\" points=\"\n  2016.88,300.469 2166.25,300.469 \n  \"/>\n<path clip-path=\"url(#clip970)\" d=\"M2212.86 302.101 L2212.86 317.749 L2208.6 317.749 L2208.6 302.239 Q2208.6 298.559 2207.17 296.73 Q2205.73 294.902 2202.86 294.902 Q2199.41 294.902 2197.42 297.101 Q2195.43 299.3 2195.43 303.096 L2195.43 317.749 L2191.15 317.749 L2191.15 281.73 L2195.43 281.73 L2195.43 295.851 Q2196.96 293.513 2199.02 292.355 Q2201.1 291.198 2203.81 291.198 Q2208.28 291.198 2210.57 293.976 Q2212.86 296.73 2212.86 302.101 Z\" fill=\"#000000\" fill-rule=\"evenodd\" fill-opacity=\"1\" /></svg>\n"
     },
     "execution_count": 18,
     "metadata": {},
     "output_type": "execute_result"
    }
   ],
   "source": [
    "nelem = 16\n",
    "x = LinRange(-1, 1, nelem+1)\n",
    "x_to_η(x) = (x .+ 1) * η_max / 2\n",
    "η = x_to_η(x)\n",
    "plot(η, [f.(x) f_η.(x) f_ηη.(x) h.(x)], \n",
    "     label=[\"f\" \"f'\" \"f''\" \"h\"], xlabel=\"η\", ylim=(0, 4))\n"
   ]
  },
  {
   "cell_type": "code",
   "execution_count": 19,
   "metadata": {},
   "outputs": [],
   "source": [
    "plot(η, [f_η.(x) h.(x)], \n",
    "     label=[\"velocity\" \"Temperature\"], xlabel=\"η\", ylim=(0, 1.2))\n",
    "savefig(\"balsius-solution.png\")"
   ]
  },
  {
   "cell_type": "code",
   "execution_count": 20,
   "metadata": {},
   "outputs": [
    {
     "data": {
      "text/plain": [
       "TemperatureFromE_lin (generic function with 1 method)"
      ]
     },
     "execution_count": 20,
     "metadata": {},
     "output_type": "execute_result"
    }
   ],
   "source": [
    "function TemperatureFromE(energy, velocity)\n",
    "     f(x) = energy(x) - velocity(x)^2\n",
    "     f\n",
    "end\n",
    "\n",
    "function TemperatureFromE_lin(x, η, u, T)\n",
    "     u_lin = LinearInterpolation(η, u.(x))\n",
    "     E_lin = LinearInterpolation(η, T.(x) + u.(x) .^ 2)\n",
    "     TemperatureFromE(E_lin, u_lin)      \n",
    " end"
   ]
  },
  {
   "cell_type": "code",
   "execution_count": 21,
   "metadata": {},
   "outputs": [],
   "source": [
    "u = f_η; # u = U_∞ * fp\n",
    "T = h;   # T = T_∞ * h\n",
    "\n",
    "# primitive \n",
    "T_prim_interps = LinearInterpolation(η, T.(x));  \n",
    "\n",
    "# conservative\n",
    "T_cons_interps = TemperatureFromE_lin(x, η, u, T);"
   ]
  },
  {
   "cell_type": "code",
   "execution_count": 22,
   "metadata": {},
   "outputs": [],
   "source": [
    "xx = LinRange(-1, 1, 300)\n",
    "plot(x_to_η(xx), [T.(xx), T_prim_interps(x_to_η(xx)), T_cons_interps.(x_to_η(xx))], \n",
    "     label=[\"Chebyshev\" \"Primitive\" \"Conservative\"], \n",
    "     title=\"Temperature (p=1)\", xlabel=\"η\", ylabel=\"T\")\n",
    "scatter!(η, T.(x), label=\"FE nodes\", color=:black, markershape=:square)\n",
    "savefig(\"Temperature_p1.png\")"
   ]
  },
  {
   "cell_type": "code",
   "execution_count": 23,
   "metadata": {},
   "outputs": [],
   "source": [
    "# energy\n",
    "function EnergyFromT(temperature, velocity)\n",
    "    f(x) = temperature(x) + velocity(x)^2\n",
    "    f\n",
    "end\n",
    "\n",
    "function EnergyFromT_lin(x, η, u, T)\n",
    "    u_lin = LinearInterpolation(η, u.(x))\n",
    "    T_lin = LinearInterpolation(η, T.(x))\n",
    "    EnergyFromT(T_lin, u_lin)      \n",
    "end\n",
    "\n",
    "E_cons_interps = LinearInterpolation(η, T.(x) + u.(x) .^ 2);\n",
    "E_prim_interps = EnergyFromT_lin(x, η, u, T);"
   ]
  },
  {
   "cell_type": "code",
   "execution_count": 24,
   "metadata": {},
   "outputs": [],
   "source": [
    "plot(x_to_η(xx), [T.(xx) + u.(xx) .^ 2, E_prim_interps.(x_to_η(xx)), E_cons_interps(x_to_η(xx))], \n",
    "     label=[\"Chebyshev\" \"Primitive\" \"Conservative\"], \n",
    "     title=\"Total Energy (p=1)\", xlabel=\"η\", ylabel=\"E\")\n",
    "scatter!(η, T.(x) + u.(x) .^ 2, label=\"FE nodes\", color=:black, markershape=:square)\n",
    "savefig(\"Energy_p1.png\")"
   ]
  },
  {
   "cell_type": "code",
   "execution_count": 25,
   "metadata": {},
   "outputs": [],
   "source": [
    "using SparseArrays\n",
    "using FastGaussQuadrature"
   ]
  },
  {
   "cell_type": "code",
   "execution_count": 26,
   "metadata": {},
   "outputs": [
    {
     "data": {
      "text/plain": [
       "mesh (generic function with 1 method)"
      ]
     },
     "execution_count": 26,
     "metadata": {},
     "output_type": "execute_result"
    }
   ],
   "source": [
    "function mesh(P, nelem)\n",
    "    x = LinRange(-1, 1, nelem+1)\n",
    "    rows = Int[]\n",
    "    cols = Int[]\n",
    "    for i in 1:nelem\n",
    "        append!(rows, (i-1)*P+1:i*P)\n",
    "        append!(cols, (i-1)*(P-1)+1:i*(P-1)+1)\n",
    "    end\n",
    "    x, sparse(cols, rows, ones(nelem*P))'\n",
    "end"
   ]
  },
  {
   "cell_type": "code",
   "execution_count": 27,
   "metadata": {},
   "outputs": [
    {
     "data": {
      "text/plain": [
       "xnodal (generic function with 1 method)"
      ]
     },
     "execution_count": 27,
     "metadata": {},
     "output_type": "execute_result"
    }
   ],
   "source": [
    "function xnodal(x, P)\n",
    "    nelem = length(x) - 1\n",
    "    xn = Float64[]\n",
    "    xref, _ = gausslobatto(P)\n",
    "    for i in 1:nelem\n",
    "        xL, xR = x[i:i+1]\n",
    "        append!(xn, (xL+xR)/2 .+ (xR-xL)/2 * xref[1+(i>1):end])\n",
    "    end\n",
    "    xn\n",
    "end"
   ]
  },
  {
   "cell_type": "code",
   "execution_count": 28,
   "metadata": {},
   "outputs": [
    {
     "data": {
      "text/plain": [
       "vander_legendre_deriv (generic function with 2 methods)"
      ]
     },
     "execution_count": 28,
     "metadata": {},
     "output_type": "execute_result"
    }
   ],
   "source": [
    "function vander_legendre_deriv(x, k=nothing)\n",
    "    if isnothing(k)\n",
    "        k = length(x) # Square by default\n",
    "    end\n",
    "    m = length(x)\n",
    "    Q = ones(m, k)\n",
    "    dQ = zeros(m, k)\n",
    "    Q[:, 2] = x\n",
    "    dQ[:, 2] .= 1\n",
    "    for n in 1:k-2\n",
    "        Q[:, n+2] = ((2*n + 1) * x .* Q[:, n+1] - n * Q[:, n]) / (n + 1)\n",
    "        dQ[:, n+2] = (2*n + 1) * Q[:,n+1] + dQ[:,n]\n",
    "    end\n",
    "    Q, dQ\n",
    "end"
   ]
  },
  {
   "cell_type": "code",
   "execution_count": 29,
   "metadata": {},
   "outputs": [
    {
     "data": {
      "text/plain": [
       "basis (generic function with 1 method)"
      ]
     },
     "execution_count": 29,
     "metadata": {},
     "output_type": "execute_result"
    }
   ],
   "source": [
    "function basis(P, q)\n",
    "    xn, _ = gausslobatto(P)\n",
    "    Pk, _ = vander_legendre_deriv(xn)\n",
    "    Bp, _ = vander_legendre_deriv(q, P)\n",
    "    B = Bp / Pk\n",
    "    B\n",
    "end"
   ]
  },
  {
   "cell_type": "code",
   "execution_count": 30,
   "metadata": {},
   "outputs": [],
   "source": [
    "struct Interp\n",
    "    P::Int\n",
    "    nelem::Int\n",
    "    x::Vector\n",
    "    xn::Vector\n",
    "    Et::Adjoint{Float64, SparseMatrixCSC{Float64, Int64}}\n",
    "    B::Matrix\n",
    "    function Interp(P, nelem)\n",
    "        x, Et = mesh(P, nelem)\n",
    "        xn = xnodal(x, P)\n",
    "        B = basis(P, x)\n",
    "        new(P, nelem, x, xn, Et,B)\n",
    "    end\n",
    "end"
   ]
  },
  {
   "cell_type": "code",
   "execution_count": 31,
   "metadata": {},
   "outputs": [
    {
     "data": {
      "text/plain": [
       "element (generic function with 1 method)"
      ]
     },
     "execution_count": 31,
     "metadata": {},
     "output_type": "execute_result"
    }
   ],
   "source": [
    "function element(intp, e)\n",
    "    xL, xR = intp.x[e:e+1]\n",
    "    E = intp.Et'[:, (e-1)*intp.P+1:e*intp.P]'\n",
    "    dXdx = ones(intp.P) * 2 / (xR - xL)\n",
    "    E, dXdx\n",
    "end"
   ]
  },
  {
   "cell_type": "code",
   "execution_count": 32,
   "metadata": {},
   "outputs": [],
   "source": [
    "P, nelem = 3, 8\n",
    "x, E = mesh(P, nelem);\n",
    "xn = xnodal(x, P);\n",
    "intp = Interp(P, nelem);"
   ]
  },
  {
   "cell_type": "code",
   "execution_count": 33,
   "metadata": {},
   "outputs": [],
   "source": [
    "function interpolate(intp, u)\n",
    "    function f(x)\n",
    "        # Find the element that contains point x\n",
    "        right = max(2, searchsortedfirst(intp.x, x))\n",
    "        left = right - 1\n",
    "        E, _ = element(intp, left)\n",
    "        x0 = .5*(intp.x[left] + intp.x[right])\n",
    "        h = intp.x[right] - intp.x[left]\n",
    "        X = (x - x0) * 2 / h    # point x in reference element\n",
    "        BX = basis(intp.P, [X]) # basis evaluation to X\n",
    "        (BX * E * u)[1]\n",
    "    end\n",
    "    f\n",
    "end\n",
    "\n",
    "T_fe = interpolate(intp, T.(intp.xn))\n",
    "u_fe = interpolate(intp, u.(intp.xn))\n",
    "E_fe = interpolate(intp, T.(intp.xn) + u.(intp.xn) .^ 2); # interpolate nodally exact energy"
   ]
  },
  {
   "cell_type": "code",
   "execution_count": 34,
   "metadata": {},
   "outputs": [],
   "source": [
    "xx = LinRange(-1, 1, 300)\n",
    "plot(x_to_η.(xx), [T.(xx) T_fe.(xx) E_fe.(xx)-u_fe.(xx).^2], \n",
    "     label=[\"Chebyshev\" \"Primitive\" \"Conservative\"], \n",
    "     title=\"Temperature (p=2)\", xlabel=\"η\", ylabel=\"T\")\n",
    "odd  = 1:2:size(intp.xn)[1]\n",
    "even = 2:2:size(intp.xn)[1]\n",
    "scatter!(x_to_η.(intp.xn)[odd], T.(intp.xn)[odd], \n",
    "         label=\"FE end-nodes\", color=:black, markershape=:square)\n",
    "scatter!(x_to_η.(intp.xn)[even], T.(intp.xn)[even], \n",
    "         label=\"FE middle-nodes\", color=:black)\n",
    "savefig(\"Temperature_p2.png\")"
   ]
  },
  {
   "cell_type": "code",
   "execution_count": 35,
   "metadata": {},
   "outputs": [],
   "source": [
    "#energy\n",
    "plot(x_to_η.(xx), [T.(xx) + u.(xx) .^2, T_fe.(xx) + u_fe.(xx).^2, E_fe.(xx)], \n",
    "      label=[\"Chebyshev\" \"Primitive\" \"Conservative\"], \n",
    "      title=\"Total Energy (p=2)\", xlabel=\"η\", ylabel=\"E\")\n",
    "odd  = 1:2:size(intp.xn)[1]\n",
    "even = 2:2:size(intp.xn)[1]\n",
    "scatter!(x_to_η.(intp.xn)[odd], T.(intp.xn)[odd] + u.(intp.xn)[odd].^2, \n",
    "         label=\"FE end-nodes\", color=:black, markershape=:square)\n",
    "scatter!(x_to_η.(intp.xn)[even], T.(intp.xn)[even] + u.(intp.xn)[even].^2, \n",
    "         label=\"FE middle-nodes\", color=:black)\n",
    "savefig(\"Energy_p2.png\")"
   ]
  }
 ],
 "metadata": {
  "kernelspec": {
   "display_name": "Julia 1.6.2",
   "language": "julia",
   "name": "julia-1.6"
  },
  "language_info": {
   "file_extension": ".jl",
   "mimetype": "application/julia",
   "name": "julia",
   "version": "1.6.2"
  },
  "vscode": {
   "interpreter": {
    "hash": "916dbcbb3f70747c44a77c7bcd40155683ae19c65e1c03b4aa3499c5328201f1"
   }
  }
 },
 "nbformat": 4,
 "nbformat_minor": 2
}
